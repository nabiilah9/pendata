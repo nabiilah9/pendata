{
 "cells": [
  {
   "cell_type": "markdown",
   "id": "678aa270",
   "metadata": {},
   "source": [
    "# Implementasi Model Klasifikasi untuk Prediksi Tingkat Keparahan Penyakit Jantung Berdasarkan Data Medis \n",
    "## Pendahuluan  \n",
    "Penyakit jantung merupakan salah satu penyebab utama kematian di dunia. Menurut data dari World Health Organization (WHO), penyakit jantung menjadi penyebab kematian nomor satu secara global. Kondisi ini dapat menyerang siapa saja tanpa memandang usia, jenis kelamin, maupun latar belakang sosial, terutama jika terdapat faktor risiko seperti tekanan darah tinggi, kolesterol tinggi, kebiasaan merokok, serta gaya hidup tidak sehat.\n",
    "\n",
    "Pentingnya deteksi dini penyakit jantung mendorong para peneliti dan praktisi kesehatan untuk mengembangkan sistem yang mampu memprediksi risiko seseorang terkena penyakit jantung sebelum gejala serius muncul. Dalam konteks ini, pemanfaatan teknologi komputasi, khususnya machine learning, menjadi salah satu solusi yang menjanjikan untuk meningkatkan akurasi dan efisiensi dalam proses diagnosis awal.\n",
    "\n",
    "Salah satu dataset yang sering digunakan dalam penelitian terkait prediksi penyakit jantung adalah Heart Disease Dataset dari UCI Machine Learning Repository. Dataset ini berisi data klinis dari pasien, seperti usia, tekanan darah, kolesterol, kadar gula darah, serta hasil pemeriksaan jantung lainnya. Dengan menggunakan algoritma machine learning, informasi tersebut dapat dianalisis untuk membangun model prediktif yang mampu mengklasifikasikan apakah seorang pasien berisiko terkena penyakit jantung atau tidak.\n",
    "\n",
    "Penelitian ini bertujuan untuk membangun model prediksi penyakit jantung berbasis data menggunakan pendekatan machine learning, sehingga dapat digunakan sebagai alat bantu dalam mendeteksi penyakit jantung secara lebih dini dan akurat.\n"
   ]
  },
  {
   "cell_type": "markdown",
   "id": "a447c593",
   "metadata": {},
   "source": [
    "## Data Understanding  \n",
    "### Sumber Data  \n",
    "Dataset pertama kali di publikasikan oleh :  \n",
    "Detrano, R. (Cleveland Clinic Foundation). \"Heart Disease Dataset.\" UCI Machine Learning Repository.  \n",
    "https://archive.ics.uci.edu/dataset/45/heart+disease  \n",
    "\n",
    "Dataset heart disease tersebut tersedia di UCI Machine Learning Repository yang telah dikumpulkan dari 4 pusat medis yaitu Cleveland Clinic Foundation, Hungarian Institute of Cardiology, Budapest, University Hospital, Zurich, Switzerland, V.A. Medical Center, Long Beach and Cleveland, Ohio.  \n",
    "\n",
    "### Tujuan  \n",
    "Dataset ini digunakan untuk membangun model klasifikasi yang memprediksi ada atau tidaknya penyakit jantung pada pasien, guna mendukung penelitian dan diagnosis medis."
   ]
  },
  {
   "cell_type": "markdown",
   "id": "437e610e",
   "metadata": {},
   "source": [
    "### Integrasi Data  \n",
    "Untuk mengolah data dari UCI Dataset, maka perlu menginstal pustaka (package) yang diperlukan. Instalasi ini bertujuan agar data yang tersedia di UCI dapat diunduh secara langsung ke dalam lingkungan Python untuk dianalisis lebih lanjut.\n",
    "\n",
    "Langkah pengambilan data dapat dilakukan dengan mengikuti instruksi yang muncul setelah menekan tombol \"Import in Python\" pada halaman dataset yang dipilih. Perintah tersebut akan memberikan kode Python yang siap digunakan untuk mengunduh dan memuat dataset secara otomatis."
   ]
  },
  {
   "cell_type": "code",
   "execution_count": 1,
   "id": "1f31c6eb",
   "metadata": {},
   "outputs": [
    {
     "name": "stdout",
     "output_type": "stream",
     "text": [
      "Requirement already satisfied: ucimlrepo in /usr/local/python/3.12.1/lib/python3.12/site-packages (0.0.7)\n",
      "Requirement already satisfied: pandas>=1.0.0 in /home/codespace/.local/lib/python3.12/site-packages (from ucimlrepo) (2.2.3)\n",
      "Requirement already satisfied: certifi>=2020.12.5 in /home/codespace/.local/lib/python3.12/site-packages (from ucimlrepo) (2024.8.30)\n",
      "Requirement already satisfied: numpy>=1.26.0 in /usr/local/python/3.12.1/lib/python3.12/site-packages (from pandas>=1.0.0->ucimlrepo) (1.26.4)\n",
      "Requirement already satisfied: python-dateutil>=2.8.2 in /home/codespace/.local/lib/python3.12/site-packages (from pandas>=1.0.0->ucimlrepo) (2.9.0.post0)\n",
      "Requirement already satisfied: pytz>=2020.1 in /home/codespace/.local/lib/python3.12/site-packages (from pandas>=1.0.0->ucimlrepo) (2024.2)\n",
      "Requirement already satisfied: tzdata>=2022.7 in /home/codespace/.local/lib/python3.12/site-packages (from pandas>=1.0.0->ucimlrepo) (2024.2)\n",
      "Requirement already satisfied: six>=1.5 in /home/codespace/.local/lib/python3.12/site-packages (from python-dateutil>=2.8.2->pandas>=1.0.0->ucimlrepo) (1.17.0)\n",
      "Note: you may need to restart the kernel to use updated packages.\n"
     ]
    }
   ],
   "source": [
    "pip install ucimlrepo"
   ]
  },
  {
   "cell_type": "code",
   "execution_count": 24,
   "id": "104b7a79",
   "metadata": {},
   "outputs": [
    {
     "name": "stdout",
     "output_type": "stream",
     "text": [
      "Data berhasil disimpan ke '2heart_disease_uciml.xlsx'\n"
     ]
    }
   ],
   "source": [
    "from ucimlrepo import fetch_ucirepo\n",
    "import pandas as pd\n",
    "\n",
    "# Ambil dataset Heart Disease dari UCI\n",
    "heart_disease = fetch_ucirepo(id=45)\n",
    "\n",
    "# Ambil fitur dan target sebagai DataFrame\n",
    "X = heart_disease.data.features\n",
    "y = heart_disease.data.targets\n",
    "\n",
    "# Gabungkan fitur dan target\n",
    "df = pd.concat([X, y], axis=1)\n",
    "\n",
    "# Simpan ke file Excel\n",
    "df.to_excel(\"2heart_disease_uciml.xlsx\", index=False)\n",
    "print(\"Data berhasil disimpan ke '2heart_disease_uciml.xlsx'\")"
   ]
  },
  {
   "cell_type": "code",
   "execution_count": 28,
   "id": "616020a5",
   "metadata": {},
   "outputs": [
    {
     "name": "stdout",
     "output_type": "stream",
     "text": [
      "<class 'pandas.core.frame.DataFrame'>\n",
      "RangeIndex: 303 entries, 0 to 302\n",
      "Data columns (total 14 columns):\n",
      " #   Column    Non-Null Count  Dtype  \n",
      "---  ------    --------------  -----  \n",
      " 0   age       303 non-null    int64  \n",
      " 1   sex       303 non-null    int64  \n",
      " 2   cp        303 non-null    int64  \n",
      " 3   trestbps  303 non-null    int64  \n",
      " 4   chol      303 non-null    int64  \n",
      " 5   fbs       303 non-null    int64  \n",
      " 6   restecg   303 non-null    int64  \n",
      " 7   thalach   303 non-null    int64  \n",
      " 8   exang     303 non-null    int64  \n",
      " 9   oldpeak   303 non-null    float64\n",
      " 10  slope     303 non-null    int64  \n",
      " 11  ca        299 non-null    float64\n",
      " 12  thal      301 non-null    float64\n",
      " 13  num       303 non-null    int64  \n",
      "dtypes: float64(3), int64(11)\n",
      "memory usage: 33.3 KB\n",
      "None\n",
      "   age  sex  cp  trestbps  chol  fbs  restecg  thalach  exang  oldpeak  slope  \\\n",
      "0   63    1   1       145   233    1        2      150      0      2.3      3   \n",
      "1   67    1   4       160   286    0        2      108      1      1.5      2   \n",
      "2   67    1   4       120   229    0        2      129      1      2.6      2   \n",
      "3   37    1   3       130   250    0        0      187      0      3.5      3   \n",
      "4   41    0   2       130   204    0        2      172      0      1.4      1   \n",
      "\n",
      "    ca  thal  num  \n",
      "0  0.0   6.0    0  \n",
      "1  3.0   3.0    2  \n",
      "2  2.0   7.0    1  \n",
      "3  0.0   3.0    0  \n",
      "4  0.0   3.0    0  \n"
     ]
    }
   ],
   "source": [
    "print(df.info())\n",
    "print(df.head())"
   ]
  },
  {
   "cell_type": "markdown",
   "id": "f20851c4",
   "metadata": {},
   "source": [
    "### Eksplorasi Data"
   ]
  },
  {
   "cell_type": "markdown",
   "id": "8aa212b6",
   "metadata": {},
   "source": [
    "#### Struktur Dataset  \n"
   ]
  },
  {
   "cell_type": "code",
   "execution_count": 29,
   "id": "9ceb25da",
   "metadata": {},
   "outputs": [
    {
     "name": "stdout",
     "output_type": "stream",
     "text": [
      "Jumlah baris : 303\n",
      "Jumlah kolom: 14\n",
      "\n",
      "Contoh data:\n",
      "   age  sex  cp  trestbps  chol  fbs  restecg  thalach  exang  oldpeak  slope  \\\n",
      "0   63    1   1       145   233    1        2      150      0      2.3      3   \n",
      "1   67    1   4       160   286    0        2      108      1      1.5      2   \n",
      "2   67    1   4       120   229    0        2      129      1      2.6      2   \n",
      "3   37    1   3       130   250    0        0      187      0      3.5      3   \n",
      "4   41    0   2       130   204    0        2      172      0      1.4      1   \n",
      "\n",
      "    ca  thal  num  \n",
      "0  0.0   6.0    0  \n",
      "1  3.0   3.0    2  \n",
      "2  2.0   7.0    1  \n",
      "3  0.0   3.0    0  \n",
      "4  0.0   3.0    0  \n"
     ]
    }
   ],
   "source": [
    "import pandas as pd\n",
    "\n",
    "# Membaca file Excel\n",
    "data = pd.read_excel(\"2heart_disease_uciml.xlsx\")\n",
    "\n",
    "# Menampilkan jumlah baris dan kolom\n",
    "print(\"Jumlah baris :\", data.shape[0])\n",
    "print(\"Jumlah kolom:\", data.shape[1])\n",
    "\n",
    "# (Opsional) Menampilkan 5 data pertama\n",
    "print(\"\\nContoh data:\")\n",
    "print(data.head())\n"
   ]
  },
  {
   "cell_type": "markdown",
   "id": "5ee253dd",
   "metadata": {},
   "source": [
    "### Fitur pada Dataset Heart Disease (UCI)\n",
    "\n",
    "**Fitur dan Penjelasannya:**\n",
    "\n",
    "- **`age`** : Umur pasien (tahun)  \n",
    "- **`sex`** : Jenis kelamin (0 = perempuan, 1 = laki-laki)  \n",
    "- **`cp`** : Tipe nyeri dada:  \n",
    "  - 0 = typical angina  \n",
    "  - 1 = atypical angina  \n",
    "  - 2 = non-anginal pain  \n",
    "  - 3 = asymptomatic  \n",
    "- **`trestbps`** : Tekanan darah saat istirahat (mm Hg)  \n",
    "- **`chol`** : Kolesterol serum (mg/dl)  \n",
    "- **`fbs`** : Gula darah puasa > 120 mg/dl (1 = ya, 0 = tidak)  \n",
    "- **`restecg`** : Hasil elektrokardiografi saat istirahat  \n",
    "  - 0 = normal  \n",
    "  - 1 = ST-T abnormal  \n",
    "  - 2 = left ventricular hypertrophy  \n",
    "- **`thalach`** : Denyut jantung maksimum  \n",
    "- **`exang`** : Angina akibat olahraga (1 = ya, 0 = tidak)  \n",
    "- **`oldpeak`** : Depresi ST akibat olahraga dibanding istirahat  \n",
    "- **`slope`** : Kemiringan segmen ST saat latihan  \n",
    "  - 0 = downsloping  \n",
    "  - 1 = flat  \n",
    "  - 2 = upsloping  \n",
    "- **`ca`** : Jumlah pembuluh darah utama yang diberi pewarna (0–3)  \n",
    "- **`thal`** : Hasil tes thalassemia  \n",
    "  - 1 = fixed defect  \n",
    "  - 2 = normal  \n",
    "  - 3 = reversible defect  \n",
    "\n",
    "---\n",
    "\n",
    "**Target (`num`)**:\n",
    "- `0` : Tidak ada penyakit jantung  \n",
    "- `1` – `4` : Ada penyakit jantung (bertingkat keparahan)  \n",
    "\n"
   ]
  },
  {
   "cell_type": "markdown",
   "id": "4caef06c",
   "metadata": {},
   "source": [
    "#### Duplikat Data  \n",
    "* Tidak ada data duplikat pada dataset"
   ]
  },
  {
   "cell_type": "code",
   "execution_count": 9,
   "id": "9a1b9728",
   "metadata": {},
   "outputs": [
    {
     "name": "stdout",
     "output_type": "stream",
     "text": [
      "Jumlah baris duplikat: 0\n",
      "Empty DataFrame\n",
      "Columns: [age, sex, cp, trestbps, chol, fbs, restecg, thalach, exang, oldpeak, slope, ca, thal, num]\n",
      "Index: []\n"
     ]
    }
   ],
   "source": [
    "import pandas as pd\n",
    "\n",
    "# Baca file Excel\n",
    "df = pd.read_excel(\"2heart_disease_uciml.xlsx\")\n",
    "\n",
    "# Cek apakah ada baris duplikat\n",
    "duplicates = df[df.duplicated()]\n",
    "print(f\"Jumlah baris duplikat: {len(duplicates)}\")\n",
    "\n",
    "# Tampilkan baris yang duplikat (jika ada)\n",
    "print(duplicates)\n"
   ]
  },
  {
   "cell_type": "markdown",
   "id": "4265e610",
   "metadata": {},
   "source": [
    "#### Missing Value  \n",
    "* Terdapat missing value pada atribut ca berjumlah 4 dan atribut thal berjumlah 2 "
   ]
  },
  {
   "cell_type": "code",
   "execution_count": null,
   "id": "16fd622a",
   "metadata": {},
   "outputs": [
    {
     "name": "stdout",
     "output_type": "stream",
     "text": [
      "Jumlah missing value per kolom:\n",
      "age         0\n",
      "sex         0\n",
      "cp          0\n",
      "trestbps    0\n",
      "chol        0\n",
      "fbs         0\n",
      "restecg     0\n",
      "thalach     0\n",
      "exang       0\n",
      "oldpeak     0\n",
      "slope       0\n",
      "ca          4\n",
      "thal        2\n",
      "num         0\n",
      "dtype: int64\n"
     ]
    }
   ],
   "source": [
    "# 1. Cek jumlah missing value di setiap kolom\n",
    "print(\"Jumlah missing value per kolom:\")\n",
    "print(df.isnull().sum())"
   ]
  },
  {
   "cell_type": "markdown",
   "id": "84c7ea74",
   "metadata": {},
   "source": [
    "### Preprocessing"
   ]
  },
  {
   "cell_type": "markdown",
   "id": "2f623065",
   "metadata": {},
   "source": [
    "#### Menghapus Missing Value  \n",
    "* Menghapus missing value sebanyak 6 dari atribut ca dan thal sehingga menjadi 297 data"
   ]
  },
  {
   "cell_type": "code",
   "execution_count": 12,
   "id": "e9d3f264",
   "metadata": {},
   "outputs": [
    {
     "name": "stdout",
     "output_type": "stream",
     "text": [
      "\n",
      "Jumlah baris sebelum dihapus: 303\n",
      "Jumlah baris setelah dihapus: 297\n"
     ]
    }
   ],
   "source": [
    "# 2. Hapus baris yang mengandung missing value\n",
    "df_clean = df.dropna()\n",
    "\n",
    "# 3. Tampilkan jumlah data sebelum dan sesudah\n",
    "print(f\"\\nJumlah baris sebelum dihapus: {len(df)}\")\n",
    "print(f\"Jumlah baris setelah dihapus: {len(df_clean)}\")"
   ]
  },
  {
   "cell_type": "markdown",
   "id": "7ef3e260",
   "metadata": {},
   "source": [
    "#### Menentukan Outlier dengan LOF  \n",
    "* mendeteksi outlier pada dataset jika hasil perhitungan dengan library LOF = -1"
   ]
  },
  {
   "cell_type": "code",
   "execution_count": 6,
   "id": "f2a901dc",
   "metadata": {},
   "outputs": [
    {
     "name": "stdout",
     "output_type": "stream",
     "text": [
      "\n",
      "Jumlah outlier yang terdeteksi: 10\n",
      "     age  sex  cp  trestbps  chol  fbs  restecg  thalach  exang  oldpeak  \\\n",
      "48    65    0   3       140   417    1        2      157      0      0.8   \n",
      "93    44    0   3       108   141    0        0      175      0      0.6   \n",
      "121   63    0   4       150   407    0        2      154      0      4.0   \n",
      "152   67    0   3       115   564    0        2      160      0      1.6   \n",
      "173   62    0   4       140   394    0        2      157      0      1.2   \n",
      "181   56    0   4       134   409    0        2      150      1      1.9   \n",
      "188   54    1   2       192   283    0        2      195      0      0.0   \n",
      "202   57    1   3       150   126    1        0      173      0      0.2   \n",
      "245   67    1   4       120   237    0        0       71      0      1.0   \n",
      "296   59    1   4       164   176    1        2       90      0      1.0   \n",
      "\n",
      "     slope   ca  thal  num  outlier  \n",
      "48       1  1.0   3.0    0       -1  \n",
      "93       2  0.0   3.0    0       -1  \n",
      "121      2  3.0   7.0    4       -1  \n",
      "152      2  0.0   7.0    0       -1  \n",
      "173      2  0.0   3.0    0       -1  \n",
      "181      2  2.0   7.0    2       -1  \n",
      "188      1  1.0   7.0    1       -1  \n",
      "202      1  1.0   7.0    0       -1  \n",
      "245      2  0.0   3.0    2       -1  \n",
      "296      2  2.0   6.0    3       -1  \n"
     ]
    },
    {
     "name": "stderr",
     "output_type": "stream",
     "text": [
      "/tmp/ipykernel_29541/1532264532.py:12: SettingWithCopyWarning: \n",
      "A value is trying to be set on a copy of a slice from a DataFrame.\n",
      "Try using .loc[row_indexer,col_indexer] = value instead\n",
      "\n",
      "See the caveats in the documentation: https://pandas.pydata.org/pandas-docs/stable/user_guide/indexing.html#returning-a-view-versus-a-copy\n",
      "  df_clean['outlier'] = y_pred\n"
     ]
    }
   ],
   "source": [
    "from sklearn.neighbors import LocalOutlierFactor\n",
    "\n",
    "# Deteksi outlier dengan KNN menggunakan LocalOutlierFactor\n",
    "# Pilih hanya kolom numerik\n",
    "numeric_df = df_clean.select_dtypes(include=['float64', 'int64'])\n",
    "\n",
    "# Inisialisasi dan jalankan model LOF\n",
    "lof = LocalOutlierFactor(n_neighbors=20)\n",
    "y_pred = lof.fit_predict(numeric_df)\n",
    "\n",
    "# Tambahkan hasil prediksi ke df_clean\n",
    "df_clean['outlier'] = y_pred\n",
    "\n",
    "# 5. Tampilkan data yang dianggap outlier\n",
    "outliers = df_clean[df_clean['outlier'] == -1]\n",
    "print(f\"\\nJumlah outlier yang terdeteksi: {len(outliers)}\")\n",
    "print(outliers)"
   ]
  },
  {
   "cell_type": "markdown",
   "id": "01eaa9ab",
   "metadata": {},
   "source": [
    "#### visualisasi outlier"
   ]
  },
  {
   "cell_type": "code",
   "execution_count": 7,
   "id": "be23f633",
   "metadata": {},
   "outputs": [
    {
     "data": {
      "image/png": "[encoded data removed]",
      "text/plain": [
       "<Figure size 1000x600 with 1 Axes>"
      ]
     },
     "metadata": {},
     "output_type": "display_data"
    }
   ],
   "source": [
    "import matplotlib.pyplot as plt\n",
    "import seaborn as sns\n",
    "\n",
    "# Pilih dua kolom numerik untuk divisualisasikan\n",
    "x_feature = 'age'\n",
    "y_feature = 'chol'\n",
    "\n",
    "# Plot scatter dengan pewarnaan berdasarkan outlier\n",
    "plt.figure(figsize=(10, 6))\n",
    "sns.scatterplot(\n",
    "    data=df_clean,\n",
    "    x=x_feature,\n",
    "    y=y_feature,\n",
    "    hue='outlier',\n",
    "    palette={1: 'blue', -1: 'red'},\n",
    "    style='outlier',\n",
    "    markers={1: 'o', -1: 'X'},\n",
    "    s=60\n",
    ")\n",
    "\n",
    "plt.title(f'Deteksi Outlier dengan LOF berdasarkan {x_feature} dan {y_feature}')\n",
    "plt.xlabel(x_feature)\n",
    "plt.ylabel(y_feature)\n",
    "plt.legend(title='Outlier')\n",
    "plt.grid(True)\n",
    "plt.tight_layout()\n",
    "plt.show()\n"
   ]
  },
  {
   "cell_type": "markdown",
   "id": "9b5b27d8",
   "metadata": {},
   "source": [
    "#### Menghapus Outlier  \n",
    "* outlier yang ditemukan sebanyak 10 data "
   ]
  },
  {
   "cell_type": "code",
   "execution_count": null,
   "id": "7c24cd6b",
   "metadata": {},
   "outputs": [
    {
     "name": "stdout",
     "output_type": "stream",
     "text": [
      "Jumlah data setelah outlier dihapus: 287\n"
     ]
    }
   ],
   "source": [
    "# Hapus baris yang terdeteksi sebagai outlier (outlier = -1)\n",
    "df_no_outlier = df_clean[df_clean['outlier'] == 1].drop(columns='outlier')\n",
    "\n",
    "# Tampilkan hasil\n",
    "print(f\"Jumlah data setelah outlier dihapus: {len(df_no_outlier)}\")\n",
    "df_no_outlier.to_excel(\"data_bersih_tanpa_outlier.xlsx\", index=False)"
   ]
  },
  {
   "cell_type": "markdown",
   "id": "beb17e18",
   "metadata": {},
   "source": [
    "#### Normalisasi Min Max"
   ]
  },
  {
   "cell_type": "code",
   "execution_count": 13,
   "id": "ee58a227",
   "metadata": {},
   "outputs": [
    {
     "name": "stdout",
     "output_type": "stream",
     "text": [
      "Data berhasil dinormalisasi dan disimpan ke data_normalized.xlsx\n"
     ]
    }
   ],
   "source": [
    "import pandas as pd\n",
    "from sklearn.preprocessing import MinMaxScaler\n",
    "\n",
    "# Baca file Excel\n",
    "df = pd.read_excel(\"data_bersih_tanpa_outlier.xlsx\")\n",
    "\n",
    "# Pisahkan fitur dan target (misalnya target adalah kolom 'num')\n",
    "X = df.drop(columns='num')\n",
    "y = df['num']\n",
    "\n",
    "# Normalisasi fitur\n",
    "scaler = MinMaxScaler()\n",
    "X_normalized = scaler.fit_transform(X)\n",
    "\n",
    "# Ubah ke DataFrame\n",
    "X_normalized_df = pd.DataFrame(X_normalized, columns=X.columns)\n",
    "\n",
    "# Gabungkan kembali dengan target\n",
    "final_df = pd.concat([X_normalized_df, y.reset_index(drop=True)], axis=1)\n",
    "\n",
    "# Simpan ke Excel\n",
    "final_df.to_excel(\"data_normalized.xlsx\", index=False)\n",
    "print(\"Data berhasil dinormalisasi dan disimpan ke data_normalized.xlsx\")"
   ]
  },
  {
   "cell_type": "markdown",
   "id": "72ae0475",
   "metadata": {},
   "source": [
    "### SMOTE  \n",
    "* SMOTE (Synthetic Minority Over-sampling Technique) adalah teknik penyeimbangan data (balancing) yang digunakan ketika memiliki data tidak seimbang (imbalanced dataset), yaitu jumlah data pada satu kelas (biasanya kelas minoritas) jauh lebih sedikit daripada kelas lainnya. SMOTE dilakukan hanya pada data training.\n",
    "\n"
   ]
  },
  {
   "cell_type": "markdown",
   "id": "c4366b51",
   "metadata": {},
   "source": [
    "#### Split Data Training dan Testing"
   ]
  },
  {
   "cell_type": "code",
   "execution_count": 1,
   "id": "6f4549e4",
   "metadata": {},
   "outputs": [
    {
     "name": "stdout",
     "output_type": "stream",
     "text": [
      "Data latih berhasil disimpan ke 'data_latih_before_smote.xlsx'\n"
     ]
    }
   ],
   "source": [
    "import pandas as pd\n",
    "from sklearn.model_selection import train_test_split\n",
    "\n",
    "# 1. Membaca dataset\n",
    "data = pd.read_excel('data_normalized.xlsx')\n",
    "\n",
    "# 2. Memisahkan fitur (X) dan target (y)\n",
    "X = data[['age','sex','cp', 'trestbps', 'chol', 'fbs', 'restecg',\n",
    "          'thalach', 'exang', 'oldpeak', 'slope', 'ca', 'thal']]\n",
    "y = data['num']\n",
    "\n",
    "# 3. Membagi data menjadi data latih dan data uji\n",
    "X_train, X_test, y_train, y_test = train_test_split(\n",
    "    X, y, test_size=0.2, random_state=0\n",
    ")\n",
    "\n",
    "# 4. Menggabungkan X_train dan y_train jadi satu DataFrame\n",
    "train_data = pd.concat([X_train, y_train], axis=1)\n",
    "\n",
    "# 5. Menyimpan data latih ke Excel\n",
    "train_data.to_excel(\"data_latih_before_smote.xlsx\", index=False)\n",
    "\n",
    "# Simpan data uji juga jika ingin\n",
    "test_data = pd.concat([X_test, y_test], axis=1)\n",
    "test_data.to_excel(\"data_uji.xlsx\", index=False)\n",
    "\n",
    "print(\"Data latih berhasil disimpan ke 'data_latih_before_smote.xlsx'\")"
   ]
  },
  {
   "cell_type": "code",
   "execution_count": 3,
   "id": "3057160f",
   "metadata": {},
   "outputs": [
    {
     "name": "stdout",
     "output_type": "stream",
     "text": [
      "Jumlah data per kelas:\n",
      "num\n",
      "0    127\n",
      "1     43\n",
      "2     21\n",
      "3     30\n",
      "4      8\n",
      "Name: count, dtype: int64\n"
     ]
    }
   ],
   "source": [
    "import pandas as pd\n",
    "\n",
    "# Membaca data dari file Excel\n",
    "data = pd.read_excel('data_latih_before_smote.xlsx')\n",
    "\n",
    "# Hitung jumlah data per kelas\n",
    "jumlah_per_kelas = data['num'].value_counts().sort_index()\n",
    "\n",
    "# Tampilkan hasil\n",
    "print(\"Jumlah data per kelas:\")\n",
    "print(jumlah_per_kelas)\n"
   ]
  },
  {
   "cell_type": "markdown",
   "id": "ddc7b0b0",
   "metadata": {},
   "source": [
    "* karena jumlah data pada setiap kelas berbeda dan ada kelas minoritas maka diperlukan smote"
   ]
  },
  {
   "cell_type": "code",
   "execution_count": 4,
   "id": "4a3aea46",
   "metadata": {},
   "outputs": [
    {
     "data": {
      "image/png": "[encoded data removed]",
      "text/plain": [
       "<Figure size 640x480 with 1 Axes>"
      ]
     },
     "metadata": {},
     "output_type": "display_data"
    }
   ],
   "source": [
    "import matplotlib.pyplot as plt\n",
    "\n",
    "# Visualisasi jumlah data per kelas\n",
    "jumlah_per_kelas.plot(kind='bar', color='skyblue')\n",
    "plt.title(\"Distribusi Jumlah Data per Kelas\")\n",
    "plt.xlabel(\"Kelas (num)\")\n",
    "plt.ylabel(\"Jumlah Data\")\n",
    "plt.xticks(rotation=0)\n",
    "plt.grid(axis='y')\n",
    "plt.tight_layout()\n",
    "plt.show()\n"
   ]
  },
  {
   "cell_type": "code",
   "execution_count": 5,
   "id": "eed45f1a",
   "metadata": {},
   "outputs": [
    {
     "name": "stdout",
     "output_type": "stream",
     "text": [
      "Collecting imbalanced-learn\n",
      "  Downloading imbalanced_learn-0.13.0-py3-none-any.whl.metadata (8.8 kB)\n",
      "Requirement already satisfied: numpy<3,>=1.24.3 in /home/codespace/.python/current/lib/python3.12/site-packages (from imbalanced-learn) (1.26.4)\n",
      "Requirement already satisfied: scipy<2,>=1.10.1 in /home/codespace/.local/lib/python3.12/site-packages (from imbalanced-learn) (1.14.1)\n",
      "Requirement already satisfied: scikit-learn<2,>=1.3.2 in /home/codespace/.local/lib/python3.12/site-packages (from imbalanced-learn) (1.6.0)\n",
      "Collecting sklearn-compat<1,>=0.1 (from imbalanced-learn)\n",
      "  Downloading sklearn_compat-0.1.3-py3-none-any.whl.metadata (18 kB)\n",
      "Requirement already satisfied: joblib<2,>=1.1.1 in /home/codespace/.local/lib/python3.12/site-packages (from imbalanced-learn) (1.4.2)\n",
      "Requirement already satisfied: threadpoolctl<4,>=2.0.0 in /home/codespace/.local/lib/python3.12/site-packages (from imbalanced-learn) (3.5.0)\n",
      "Downloading imbalanced_learn-0.13.0-py3-none-any.whl (238 kB)\n",
      "Downloading sklearn_compat-0.1.3-py3-none-any.whl (18 kB)\n",
      "Installing collected packages: sklearn-compat, imbalanced-learn\n",
      "\u001b[2K   \u001b[90m━━━━━━━━━━━━━━━━━━━━━━━━━━━━━━━━━━━━━━━━\u001b[0m \u001b[32m2/2\u001b[0m [imbalanced-learn][imbalanced-learn]\n",
      "\u001b[1A\u001b[2KSuccessfully installed imbalanced-learn-0.13.0 sklearn-compat-0.1.3\n"
     ]
    }
   ],
   "source": [
    "!pip install imbalanced-learn\n"
   ]
  },
  {
   "cell_type": "code",
   "execution_count": 6,
   "id": "f43bf640",
   "metadata": {},
   "outputs": [
    {
     "name": "stdout",
     "output_type": "stream",
     "text": [
      "Data latih hasil SMOTE berhasil disimpan ke 'data_latih_after_smote.xlsx'\n"
     ]
    }
   ],
   "source": [
    "import pandas as pd\n",
    "from imblearn.over_sampling import SMOTE\n",
    "\n",
    "# 1. Membaca data latih dari Excel\n",
    "train_data = pd.read_excel(\"data_latih_before_smote.xlsx\")\n",
    "\n",
    "# 2. Pisahkan fitur (X) dan target (y)\n",
    "X_train = train_data.drop(columns=[\"num\"])\n",
    "y_train = train_data[\"num\"]\n",
    "\n",
    "# 3. Terapkan SMOTE\n",
    "smote = SMOTE(random_state=0)\n",
    "X_train_smote, y_train_smote = smote.fit_resample(X_train, y_train)\n",
    "\n",
    "# 4. Gabungkan kembali hasil SMOTE menjadi DataFrame\n",
    "smote_train_data = pd.DataFrame(X_train_smote, columns=X_train.columns)\n",
    "smote_train_data[\"num\"] = y_train_smote\n",
    "\n",
    "# 5. Simpan ke Excel\n",
    "smote_train_data.to_excel(\"data_latih_after_smote.xlsx\", index=False)\n",
    "\n",
    "print(\"Data latih hasil SMOTE berhasil disimpan ke 'data_latih_after_smote.xlsx'\")\n"
   ]
  },
  {
   "cell_type": "code",
   "execution_count": 7,
   "id": "1900405c",
   "metadata": {},
   "outputs": [
    {
     "name": "stdout",
     "output_type": "stream",
     "text": [
      "Jumlah data per kelas setelah SMOTE:\n",
      "num\n",
      "0    127\n",
      "1    127\n",
      "2    127\n",
      "3    127\n",
      "4    127\n",
      "Name: count, dtype: int64\n"
     ]
    }
   ],
   "source": [
    "import pandas as pd\n",
    "\n",
    "# Membaca file hasil SMOTE\n",
    "data_smote = pd.read_excel('data_latih_after_smote.xlsx')\n",
    "\n",
    "# Hitung jumlah data per kelas\n",
    "jumlah_per_kelas_smote = data_smote['num'].value_counts().sort_index()\n",
    "\n",
    "# Tampilkan hasil\n",
    "print(\"Jumlah data per kelas setelah SMOTE:\")\n",
    "print(jumlah_per_kelas_smote)\n"
   ]
  },
  {
   "cell_type": "markdown",
   "id": "b524e0cd",
   "metadata": {},
   "source": [
    "### Modelling klasifikasi Gaussian Naive Bayes"
   ]
  },
  {
   "cell_type": "code",
   "execution_count": 17,
   "id": "46387650",
   "metadata": {},
   "outputs": [
    {
     "name": "stdout",
     "output_type": "stream",
     "text": [
      "Accuracy : 0.4482758620689655\n",
      "Precision: 0.23552380952380952\n",
      "Recall   : 0.2671428571428571\n",
      "F1 Score : 0.2410377358490566\n"
     ]
    }
   ],
   "source": [
    "import pandas as pd\n",
    "from sklearn.naive_bayes import GaussianNB\n",
    "from sklearn.metrics import accuracy_score, precision_score, recall_score, f1_score\n",
    "\n",
    "# 1. Baca data latih hasil SMOTE\n",
    "train_data_smote = pd.read_excel(\"data_latih_after_smote.xlsx\")\n",
    "X_train = train_data_smote.drop(columns=[\"num\"])\n",
    "y_train = train_data_smote[\"num\"]\n",
    "\n",
    "# 2. Baca data uji (asli)\n",
    "test_data = pd.read_excel(\"data_uji.xlsx\")\n",
    "X_test = test_data.drop(columns=[\"num\"])\n",
    "y_test = test_data[\"num\"]\n",
    "\n",
    "# 3. Buat dan latih model Naive Bayes\n",
    "model = GaussianNB()\n",
    "model.fit(X_train, y_train)\n",
    "\n",
    "# 4. Prediksi\n",
    "y_pred = model.predict(X_test)\n",
    "\n",
    "# 5. Evaluasi model\n",
    "print(\"Accuracy :\", accuracy_score(y_test, y_pred))\n",
    "print(\"Precision:\", precision_score(y_test, y_pred, average='macro', zero_division=0))\n",
    "print(\"Recall   :\", recall_score(y_test, y_pred, average='macro', zero_division=0))\n",
    "print(\"F1 Score :\", f1_score(y_test, y_pred, average='macro', zero_division=0))\n"
   ]
  },
  {
   "cell_type": "markdown",
   "id": "a5b57456",
   "metadata": {},
   "source": [
    "#### Uji model dengan data inputan baru"
   ]
  },
  {
   "cell_type": "code",
   "execution_count": 18,
   "id": "46dc170b",
   "metadata": {},
   "outputs": [
    {
     "name": "stdout",
     "output_type": "stream",
     "text": [
      "Prediksi kelas untuk data baru: 3\n"
     ]
    }
   ],
   "source": [
    "# Contoh inputan baru (sudah dinormalisasi)\n",
    "data_baru = pd.DataFrame([{\n",
    "    'age': 63,\n",
    "    'sex': 1,\n",
    "    'cp': 1,\n",
    "    'trestbps': 145,\n",
    "    'chol': 233,\n",
    "    'fbs': 1,\n",
    "    'restecg': 2,\n",
    "    'thalach': 150,\n",
    "    'exang': 0,\n",
    "    'oldpeak': 2.3,\n",
    "    'slope': 3,\n",
    "    'ca': 0,\n",
    "    'thal': 6\n",
    "}])\n",
    "# Prediksi\n",
    "hasil_prediksi = model.predict(data_baru)\n",
    "\n",
    "# Tampilkan hasil\n",
    "print(\"Prediksi kelas untuk data baru:\", hasil_prediksi[0])\n"
   ]
  },
  {
   "cell_type": "markdown",
   "id": "5d1cf93d",
   "metadata": {},
   "source": [
    "## Modelling Klasifikasi Decision Tree"
   ]
  },
  {
   "cell_type": "code",
   "execution_count": 21,
   "id": "ce570b1b",
   "metadata": {},
   "outputs": [
    {
     "name": "stdout",
     "output_type": "stream",
     "text": [
      "=== Evaluasi Random Forest ===\n",
      "Accuracy : 0.5\n",
      "Precision: 0.24938416422287388\n",
      "Recall   : 0.26476190476190475\n",
      "F1 Score : 0.2562183579132732\n",
      "\n",
      "=== Classification Report ===\n",
      "              precision    recall  f1-score   support\n",
      "\n",
      "           0       0.77      0.86      0.81        28\n",
      "           1       0.27      0.30      0.29        10\n",
      "           2       0.20      0.17      0.18        12\n",
      "           3       0.00      0.00      0.00         4\n",
      "           4       0.00      0.00      0.00         4\n",
      "\n",
      "    accuracy                           0.50        58\n",
      "   macro avg       0.25      0.26      0.26        58\n",
      "weighted avg       0.46      0.50      0.48        58\n",
      "\n"
     ]
    }
   ],
   "source": [
    "import pandas as pd\n",
    "from sklearn.ensemble import RandomForestClassifier\n",
    "from sklearn.metrics import accuracy_score, precision_score, recall_score, f1_score, classification_report\n",
    "\n",
    "# 1. Baca data latih hasil SMOTE\n",
    "train_data = pd.read_excel(\"data_latih_after_smote.xlsx\")\n",
    "X_train = train_data.drop(columns=[\"num\"])\n",
    "y_train = train_data[\"num\"]\n",
    "\n",
    "# 2. Baca data uji asli\n",
    "test_data = pd.read_excel(\"data_uji.xlsx\")\n",
    "X_test = test_data.drop(columns=[\"num\"])\n",
    "y_test = test_data[\"num\"]\n",
    "\n",
    "# 3. Buat dan latih model Random Forest\n",
    "model = RandomForestClassifier(\n",
    "    n_estimators=100,\n",
    "    max_depth=10,             # batasi kedalaman untuk mencegah overfitting\n",
    "    random_state=0\n",
    ")\n",
    "model.fit(X_train, y_train)\n",
    "\n",
    "# 4. Prediksi\n",
    "y_pred = model.predict(X_test)\n",
    "\n",
    "# 5. Evaluasi\n",
    "print(\"=== Evaluasi Random Forest ===\")\n",
    "print(\"Accuracy :\", accuracy_score(y_test, y_pred))\n",
    "print(\"Precision:\", precision_score(y_test, y_pred, average='macro', zero_division=0))\n",
    "print(\"Recall   :\", recall_score(y_test, y_pred, average='macro', zero_division=0))\n",
    "print(\"F1 Score :\", f1_score(y_test, y_pred, average='macro', zero_division=0))\n",
    "\n",
    "# 6. Laporan detail\n",
    "print(\"\\n=== Classification Report ===\")\n",
    "print(classification_report(y_test, y_pred, zero_division=0))\n"
   ]
  },
  {
   "cell_type": "markdown",
   "id": "2606dd0c",
   "metadata": {},
   "source": [
    "#### Uji model dengan data inputan baru"
   ]
  },
  {
   "cell_type": "code",
   "execution_count": 22,
   "id": "382026b4",
   "metadata": {},
   "outputs": [
    {
     "name": "stdout",
     "output_type": "stream",
     "text": [
      "Prediksi kelas untuk data baru: 3\n"
     ]
    }
   ],
   "source": [
    "# Contoh inputan baru (sudah dinormalisasi)\n",
    "data_baru = pd.DataFrame([{\n",
    "    'age': 63,\n",
    "    'sex': 1,\n",
    "    'cp': 1,\n",
    "    'trestbps': 145,\n",
    "    'chol': 233,\n",
    "    'fbs': 1,\n",
    "    'restecg': 2,\n",
    "    'thalach': 150,\n",
    "    'exang': 0,\n",
    "    'oldpeak': 2.3,\n",
    "    'slope': 3,\n",
    "    'ca': 0,\n",
    "    'thal': 6\n",
    "}])\n",
    "# Prediksi\n",
    "hasil_prediksi = model.predict(data_baru)\n",
    "\n",
    "# Tampilkan hasil\n",
    "print(\"Prediksi kelas untuk data baru:\", hasil_prediksi[0])\n"
   ]
  },
  {
   "cell_type": "markdown",
   "id": "fe471330",
   "metadata": {},
   "source": [
    "### Evaluasi model"
   ]
  },
  {
   "cell_type": "markdown",
   "id": "7177530b",
   "metadata": {},
   "source": [
    "$\n",
    "\\begin{array}{lcccc}\n",
    "\\hline\n",
    "\\textbf{Model} & \\textbf{Akurasi} \\\\\n",
    "\\hline\n",
    "\\text{Naive Bayes + SMOTE}& 0.44 \\\\\n",
    "\\text{Random Forest + SMOTE} & 0.5 \\\\\n",
    "\\hline\n",
    "\\end{array}\n",
    "$  \n",
    "\n",
    "* Random Forest lebih baik dari Naive Bayes dalam dataset ini.  \n",
    "* Tapi keduanya belum ideal, karena akurasi < 60%.  \n"
   ]
  }
 ],
 "metadata": {
  "kernelspec": {
   "display_name": "Python 3 (ipykernel)",
   "language": "python",
   "name": "python3"
  }
 },
 "nbformat": 4,
 "nbformat_minor": 5
}
