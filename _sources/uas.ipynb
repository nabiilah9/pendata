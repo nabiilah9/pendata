{
 "cells": [
  {
   "cell_type": "markdown",
   "id": "5522192d",
   "metadata": {},
   "source": [
    "# Prediksi Diagnosis Kanker Payudara"
   ]
  },
  {
   "cell_type": "markdown",
   "id": "0f63cd24",
   "metadata": {},
   "source": [
    "## Pendahuluan  \n",
    "Kanker payudara merupakan salah satu jenis kanker yang paling umum dan menjadi penyebab utama kematian pada wanita di seluruh dunia. Menurut data dari World Health Organization (WHO), deteksi dini terhadap kanker payudara sangat penting untuk meningkatkan peluang kesembuhan dan menurunkan tingkat kematian. Salah satu metode yang dapat digunakan untuk mendeteksi kanker payudara adalah dengan menganalisis karakteristik sel kanker menggunakan teknologi komputer.  \n",
    "\n",
    "Perkembangan teknologi di bidang kecerdasan buatan, khususnya machine learning, memungkinkan sistem komputer untuk melakukan analisis data secara otomatis dan menghasilkan prediksi yang akurat. Dengan memanfaatkan dataset medis yang telah tersedia, seperti Breast Cancer Wisconsin (Diagnostic) Dataset. Algoritma machine learning dapat dilatih untuk membedakan antara tumor jinak (benign) dan ganas (malignant)."
   ]
  },
  {
   "cell_type": "markdown",
   "id": "170658e1",
   "metadata": {},
   "source": [
    "## Data Understanding"
   ]
  },
  {
   "cell_type": "markdown",
   "id": "4682785c",
   "metadata": {},
   "source": [
    "### Sumber Data  \n",
    "Dataset dapat dilihat pada link berikut ini :  \n",
    "https://archive.ics.uci.edu/dataset/17/breast+cancer+wisconsin+diagnostic  \n",
    "\n",
    "Dataset Breast Cancer Wisconsin (Diagnostic) dari UCI berisi data medis yang digunakan untuk memprediksi apakah suatu tumor bersifat ganas (malignant) atau jinak (benign) berdasarkan hasil pemeriksaan mikroskopik sel kanker.  \n",
    "\n",
    "### Tujuan  \n",
    "Dataset ini digunakan untuk membangun model klasifikasi untuk memprediksi ganas atau jinak nya tumor kanker payudara pada pasien, guna mendukung penelitian dan diagnosis medis."
   ]
  },
  {
   "cell_type": "markdown",
   "id": "6cc2ace4",
   "metadata": {},
   "source": [
    "### Integrasi Data  \n",
    "Untuk mengolah data dari UCI Dataset, maka perlu menginstal pustaka (package) yang diperlukan. Instalasi ini bertujuan agar data yang tersedia di UCI dapat diunduh secara langsung ke dalam lingkungan Python untuk dianalisis lebih lanjut. Langkah pengambilan data dapat dilakukan dengan mengikuti instruksi yang muncul setelah menekan tombol \"Import in Python\" pada halaman dataset yang dipilih. Perintah tersebut akan memberikan kode Python yang siap digunakan untuk mengunduh dan memuat dataset secara otomatis."
   ]
  },
  {
   "cell_type": "code",
   "execution_count": 96,
   "id": "b3884e49",
   "metadata": {},
   "outputs": [
    {
     "name": "stdout",
     "output_type": "stream",
     "text": [
      "Requirement already satisfied: ucimlrepo in /usr/local/python/3.12.1/lib/python3.12/site-packages (0.0.7)\n",
      "Requirement already satisfied: pandas>=1.0.0 in /home/codespace/.local/lib/python3.12/site-packages (from ucimlrepo) (2.2.3)\n",
      "Requirement already satisfied: certifi>=2020.12.5 in /home/codespace/.local/lib/python3.12/site-packages (from ucimlrepo) (2024.8.30)\n",
      "Requirement already satisfied: numpy>=1.26.0 in /usr/local/python/3.12.1/lib/python3.12/site-packages (from pandas>=1.0.0->ucimlrepo) (1.26.4)\n",
      "Requirement already satisfied: python-dateutil>=2.8.2 in /home/codespace/.local/lib/python3.12/site-packages (from pandas>=1.0.0->ucimlrepo) (2.9.0.post0)\n",
      "Requirement already satisfied: pytz>=2020.1 in /home/codespace/.local/lib/python3.12/site-packages (from pandas>=1.0.0->ucimlrepo) (2024.2)\n",
      "Requirement already satisfied: tzdata>=2022.7 in /home/codespace/.local/lib/python3.12/site-packages (from pandas>=1.0.0->ucimlrepo) (2024.2)\n",
      "Requirement already satisfied: six>=1.5 in /home/codespace/.local/lib/python3.12/site-packages (from python-dateutil>=2.8.2->pandas>=1.0.0->ucimlrepo) (1.17.0)\n",
      "Note: you may need to restart the kernel to use updated packages.\n"
     ]
    }
   ],
   "source": [
    "pip install ucimlrepo"
   ]
  },
  {
   "cell_type": "code",
   "execution_count": 97,
   "id": "14696473",
   "metadata": {},
   "outputs": [
    {
     "name": "stdout",
     "output_type": "stream",
     "text": [
      "{'uci_id': 17, 'name': 'Breast Cancer Wisconsin (Diagnostic)', 'repository_url': 'https://archive.ics.uci.edu/dataset/17/breast+cancer+wisconsin+diagnostic', 'data_url': 'https://archive.ics.uci.edu/static/public/17/data.csv', 'abstract': 'Diagnostic Wisconsin Breast Cancer Database.', 'area': 'Health and Medicine', 'tasks': ['Classification'], 'characteristics': ['Multivariate'], 'num_instances': 569, 'num_features': 30, 'feature_types': ['Real'], 'demographics': [], 'target_col': ['Diagnosis'], 'index_col': ['ID'], 'has_missing_values': 'no', 'missing_values_symbol': None, 'year_of_dataset_creation': 1993, 'last_updated': 'Fri Nov 03 2023', 'dataset_doi': '10.24432/C5DW2B', 'creators': ['William Wolberg', 'Olvi Mangasarian', 'Nick Street', 'W. Street'], 'intro_paper': {'ID': 230, 'type': 'NATIVE', 'title': 'Nuclear feature extraction for breast tumor diagnosis', 'authors': 'W. Street, W. Wolberg, O. Mangasarian', 'venue': 'Electronic imaging', 'year': 1993, 'journal': None, 'DOI': '10.1117/12.148698', 'URL': 'https://www.semanticscholar.org/paper/53f0fbb425bc14468eb3bf96b2e1d41ba8087f36', 'sha': None, 'corpus': None, 'arxiv': None, 'mag': None, 'acl': None, 'pmid': None, 'pmcid': None}, 'additional_info': {'summary': 'Features are computed from a digitized image of a fine needle aspirate (FNA) of a breast mass.  They describe characteristics of the cell nuclei present in the image. A few of the images can be found at http://www.cs.wisc.edu/~street/images/\\r\\n\\r\\nSeparating plane described above was obtained using Multisurface Method-Tree (MSM-T) [K. P. Bennett, \"Decision Tree Construction Via Linear Programming.\" Proceedings of the 4th Midwest Artificial Intelligence and Cognitive Science Society, pp. 97-101, 1992], a classification method which uses linear programming to construct a decision tree.  Relevant features were selected using an exhaustive search in the space of 1-4 features and 1-3 separating planes.\\r\\n\\r\\nThe actual linear program used to obtain the separating plane in the 3-dimensional space is that described in: [K. P. Bennett and O. L. Mangasarian: \"Robust Linear Programming Discrimination of Two Linearly Inseparable Sets\", Optimization Methods and Software 1, 1992, 23-34].\\r\\n\\r\\nThis database is also available through the UW CS ftp server:\\r\\nftp ftp.cs.wisc.edu\\r\\ncd math-prog/cpo-dataset/machine-learn/WDBC/', 'purpose': None, 'funded_by': None, 'instances_represent': None, 'recommended_data_splits': None, 'sensitive_data': None, 'preprocessing_description': None, 'variable_info': '1) ID number\\r\\n2) Diagnosis (M = malignant, B = benign)\\r\\n3-32)\\r\\n\\r\\nTen real-valued features are computed for each cell nucleus:\\r\\n\\r\\n\\ta) radius (mean of distances from center to points on the perimeter)\\r\\n\\tb) texture (standard deviation of gray-scale values)\\r\\n\\tc) perimeter\\r\\n\\td) area\\r\\n\\te) smoothness (local variation in radius lengths)\\r\\n\\tf) compactness (perimeter^2 / area - 1.0)\\r\\n\\tg) concavity (severity of concave portions of the contour)\\r\\n\\th) concave points (number of concave portions of the contour)\\r\\n\\ti) symmetry \\r\\n\\tj) fractal dimension (\"coastline approximation\" - 1)', 'citation': None}}\n",
      "                  name     role         type demographic description units  \\\n",
      "0                   ID       ID  Categorical        None        None  None   \n",
      "1            Diagnosis   Target  Categorical        None        None  None   \n",
      "2              radius1  Feature   Continuous        None        None  None   \n",
      "3             texture1  Feature   Continuous        None        None  None   \n",
      "4           perimeter1  Feature   Continuous        None        None  None   \n",
      "5                area1  Feature   Continuous        None        None  None   \n",
      "6          smoothness1  Feature   Continuous        None        None  None   \n",
      "7         compactness1  Feature   Continuous        None        None  None   \n",
      "8           concavity1  Feature   Continuous        None        None  None   \n",
      "9      concave_points1  Feature   Continuous        None        None  None   \n",
      "10           symmetry1  Feature   Continuous        None        None  None   \n",
      "11  fractal_dimension1  Feature   Continuous        None        None  None   \n",
      "12             radius2  Feature   Continuous        None        None  None   \n",
      "13            texture2  Feature   Continuous        None        None  None   \n",
      "14          perimeter2  Feature   Continuous        None        None  None   \n",
      "15               area2  Feature   Continuous        None        None  None   \n",
      "16         smoothness2  Feature   Continuous        None        None  None   \n",
      "17        compactness2  Feature   Continuous        None        None  None   \n",
      "18          concavity2  Feature   Continuous        None        None  None   \n",
      "19     concave_points2  Feature   Continuous        None        None  None   \n",
      "20           symmetry2  Feature   Continuous        None        None  None   \n",
      "21  fractal_dimension2  Feature   Continuous        None        None  None   \n",
      "22             radius3  Feature   Continuous        None        None  None   \n",
      "23            texture3  Feature   Continuous        None        None  None   \n",
      "24          perimeter3  Feature   Continuous        None        None  None   \n",
      "25               area3  Feature   Continuous        None        None  None   \n",
      "26         smoothness3  Feature   Continuous        None        None  None   \n",
      "27        compactness3  Feature   Continuous        None        None  None   \n",
      "28          concavity3  Feature   Continuous        None        None  None   \n",
      "29     concave_points3  Feature   Continuous        None        None  None   \n",
      "30           symmetry3  Feature   Continuous        None        None  None   \n",
      "31  fractal_dimension3  Feature   Continuous        None        None  None   \n",
      "\n",
      "   missing_values  \n",
      "0              no  \n",
      "1              no  \n",
      "2              no  \n",
      "3              no  \n",
      "4              no  \n",
      "5              no  \n",
      "6              no  \n",
      "7              no  \n",
      "8              no  \n",
      "9              no  \n",
      "10             no  \n",
      "11             no  \n",
      "12             no  \n",
      "13             no  \n",
      "14             no  \n",
      "15             no  \n",
      "16             no  \n",
      "17             no  \n",
      "18             no  \n",
      "19             no  \n",
      "20             no  \n",
      "21             no  \n",
      "22             no  \n",
      "23             no  \n",
      "24             no  \n",
      "25             no  \n",
      "26             no  \n",
      "27             no  \n",
      "28             no  \n",
      "29             no  \n",
      "30             no  \n",
      "31             no  \n"
     ]
    }
   ],
   "source": [
    "from ucimlrepo import fetch_ucirepo \n",
    "import pandas as pd\n",
    "\n",
    "# fetch dataset \n",
    "breast_cancer_wisconsin_diagnostic = fetch_ucirepo(id=17) \n",
    "  \n",
    "# data (as pandas dataframes) \n",
    "X = breast_cancer_wisconsin_diagnostic.data.features \n",
    "y = breast_cancer_wisconsin_diagnostic.data.targets \n",
    "\n",
    "# gabungkan fitur dan target jadi satu dataframe\n",
    "df = pd.concat([X, y], axis=1)\n",
    "\n",
    "# simpan ke file CSV\n",
    "df.to_csv(\"breast.csv\", index=False)\n",
    "\n",
    "# metadata \n",
    "print(breast_cancer_wisconsin_diagnostic.metadata) \n",
    "  \n",
    "# variable information \n",
    "print(breast_cancer_wisconsin_diagnostic.variables)\n"
   ]
  },
  {
   "cell_type": "markdown",
   "id": "43db21fd",
   "metadata": {},
   "source": [
    "### Eksplorasi Data"
   ]
  },
  {
   "cell_type": "markdown",
   "id": "ba6946a2",
   "metadata": {},
   "source": [
    "Menampilkan 5 data dari dataset"
   ]
  },
  {
   "cell_type": "code",
   "execution_count": 98,
   "id": "09973b6a",
   "metadata": {},
   "outputs": [
    {
     "data": {
      "text/html": [
       "<div>\n",
       "<style scoped>\n",
       "    .dataframe tbody tr th:only-of-type {\n",
       "        vertical-align: middle;\n",
       "    }\n",
       "\n",
       "    .dataframe tbody tr th {\n",
       "        vertical-align: top;\n",
       "    }\n",
       "\n",
       "    .dataframe thead th {\n",
       "        text-align: right;\n",
       "    }\n",
       "</style>\n",
       "<table border=\"1\" class=\"dataframe\">\n",
       "  <thead>\n",
       "    <tr style=\"text-align: right;\">\n",
       "      <th></th>\n",
       "      <th>radius1</th>\n",
       "      <th>texture1</th>\n",
       "      <th>perimeter1</th>\n",
       "      <th>area1</th>\n",
       "      <th>smoothness1</th>\n",
       "      <th>compactness1</th>\n",
       "      <th>concavity1</th>\n",
       "      <th>concave_points1</th>\n",
       "      <th>symmetry1</th>\n",
       "      <th>fractal_dimension1</th>\n",
       "      <th>...</th>\n",
       "      <th>texture3</th>\n",
       "      <th>perimeter3</th>\n",
       "      <th>area3</th>\n",
       "      <th>smoothness3</th>\n",
       "      <th>compactness3</th>\n",
       "      <th>concavity3</th>\n",
       "      <th>concave_points3</th>\n",
       "      <th>symmetry3</th>\n",
       "      <th>fractal_dimension3</th>\n",
       "      <th>Diagnosis</th>\n",
       "    </tr>\n",
       "  </thead>\n",
       "  <tbody>\n",
       "    <tr>\n",
       "      <th>0</th>\n",
       "      <td>17.99</td>\n",
       "      <td>10.38</td>\n",
       "      <td>122.80</td>\n",
       "      <td>1001.0</td>\n",
       "      <td>0.11840</td>\n",
       "      <td>0.27760</td>\n",
       "      <td>0.30010</td>\n",
       "      <td>0.14710</td>\n",
       "      <td>0.2419</td>\n",
       "      <td>0.07871</td>\n",
       "      <td>...</td>\n",
       "      <td>17.33</td>\n",
       "      <td>184.60</td>\n",
       "      <td>2019.0</td>\n",
       "      <td>0.16220</td>\n",
       "      <td>0.66560</td>\n",
       "      <td>0.7119</td>\n",
       "      <td>0.2654</td>\n",
       "      <td>0.4601</td>\n",
       "      <td>0.11890</td>\n",
       "      <td>M</td>\n",
       "    </tr>\n",
       "    <tr>\n",
       "      <th>1</th>\n",
       "      <td>20.57</td>\n",
       "      <td>17.77</td>\n",
       "      <td>132.90</td>\n",
       "      <td>1326.0</td>\n",
       "      <td>0.08474</td>\n",
       "      <td>0.07864</td>\n",
       "      <td>0.08690</td>\n",
       "      <td>0.07017</td>\n",
       "      <td>0.1812</td>\n",
       "      <td>0.05667</td>\n",
       "      <td>...</td>\n",
       "      <td>23.41</td>\n",
       "      <td>158.80</td>\n",
       "      <td>1956.0</td>\n",
       "      <td>0.12380</td>\n",
       "      <td>0.18660</td>\n",
       "      <td>0.2416</td>\n",
       "      <td>0.1860</td>\n",
       "      <td>0.2750</td>\n",
       "      <td>0.08902</td>\n",
       "      <td>M</td>\n",
       "    </tr>\n",
       "    <tr>\n",
       "      <th>2</th>\n",
       "      <td>19.69</td>\n",
       "      <td>21.25</td>\n",
       "      <td>130.00</td>\n",
       "      <td>1203.0</td>\n",
       "      <td>0.10960</td>\n",
       "      <td>0.15990</td>\n",
       "      <td>0.19740</td>\n",
       "      <td>0.12790</td>\n",
       "      <td>0.2069</td>\n",
       "      <td>0.05999</td>\n",
       "      <td>...</td>\n",
       "      <td>25.53</td>\n",
       "      <td>152.50</td>\n",
       "      <td>1709.0</td>\n",
       "      <td>0.14440</td>\n",
       "      <td>0.42450</td>\n",
       "      <td>0.4504</td>\n",
       "      <td>0.2430</td>\n",
       "      <td>0.3613</td>\n",
       "      <td>0.08758</td>\n",
       "      <td>M</td>\n",
       "    </tr>\n",
       "    <tr>\n",
       "      <th>3</th>\n",
       "      <td>11.42</td>\n",
       "      <td>20.38</td>\n",
       "      <td>77.58</td>\n",
       "      <td>386.1</td>\n",
       "      <td>0.14250</td>\n",
       "      <td>0.28390</td>\n",
       "      <td>0.24140</td>\n",
       "      <td>0.10520</td>\n",
       "      <td>0.2597</td>\n",
       "      <td>0.09744</td>\n",
       "      <td>...</td>\n",
       "      <td>26.50</td>\n",
       "      <td>98.87</td>\n",
       "      <td>567.7</td>\n",
       "      <td>0.20980</td>\n",
       "      <td>0.86630</td>\n",
       "      <td>0.6869</td>\n",
       "      <td>0.2575</td>\n",
       "      <td>0.6638</td>\n",
       "      <td>0.17300</td>\n",
       "      <td>M</td>\n",
       "    </tr>\n",
       "    <tr>\n",
       "      <th>4</th>\n",
       "      <td>20.29</td>\n",
       "      <td>14.34</td>\n",
       "      <td>135.10</td>\n",
       "      <td>1297.0</td>\n",
       "      <td>0.10030</td>\n",
       "      <td>0.13280</td>\n",
       "      <td>0.19800</td>\n",
       "      <td>0.10430</td>\n",
       "      <td>0.1809</td>\n",
       "      <td>0.05883</td>\n",
       "      <td>...</td>\n",
       "      <td>16.67</td>\n",
       "      <td>152.20</td>\n",
       "      <td>1575.0</td>\n",
       "      <td>0.13740</td>\n",
       "      <td>0.20500</td>\n",
       "      <td>0.4000</td>\n",
       "      <td>0.1625</td>\n",
       "      <td>0.2364</td>\n",
       "      <td>0.07678</td>\n",
       "      <td>M</td>\n",
       "    </tr>\n",
       "    <tr>\n",
       "      <th>...</th>\n",
       "      <td>...</td>\n",
       "      <td>...</td>\n",
       "      <td>...</td>\n",
       "      <td>...</td>\n",
       "      <td>...</td>\n",
       "      <td>...</td>\n",
       "      <td>...</td>\n",
       "      <td>...</td>\n",
       "      <td>...</td>\n",
       "      <td>...</td>\n",
       "      <td>...</td>\n",
       "      <td>...</td>\n",
       "      <td>...</td>\n",
       "      <td>...</td>\n",
       "      <td>...</td>\n",
       "      <td>...</td>\n",
       "      <td>...</td>\n",
       "      <td>...</td>\n",
       "      <td>...</td>\n",
       "      <td>...</td>\n",
       "      <td>...</td>\n",
       "    </tr>\n",
       "    <tr>\n",
       "      <th>564</th>\n",
       "      <td>21.56</td>\n",
       "      <td>22.39</td>\n",
       "      <td>142.00</td>\n",
       "      <td>1479.0</td>\n",
       "      <td>0.11100</td>\n",
       "      <td>0.11590</td>\n",
       "      <td>0.24390</td>\n",
       "      <td>0.13890</td>\n",
       "      <td>0.1726</td>\n",
       "      <td>0.05623</td>\n",
       "      <td>...</td>\n",
       "      <td>26.40</td>\n",
       "      <td>166.10</td>\n",
       "      <td>2027.0</td>\n",
       "      <td>0.14100</td>\n",
       "      <td>0.21130</td>\n",
       "      <td>0.4107</td>\n",
       "      <td>0.2216</td>\n",
       "      <td>0.2060</td>\n",
       "      <td>0.07115</td>\n",
       "      <td>M</td>\n",
       "    </tr>\n",
       "    <tr>\n",
       "      <th>565</th>\n",
       "      <td>20.13</td>\n",
       "      <td>28.25</td>\n",
       "      <td>131.20</td>\n",
       "      <td>1261.0</td>\n",
       "      <td>0.09780</td>\n",
       "      <td>0.10340</td>\n",
       "      <td>0.14400</td>\n",
       "      <td>0.09791</td>\n",
       "      <td>0.1752</td>\n",
       "      <td>0.05533</td>\n",
       "      <td>...</td>\n",
       "      <td>38.25</td>\n",
       "      <td>155.00</td>\n",
       "      <td>1731.0</td>\n",
       "      <td>0.11660</td>\n",
       "      <td>0.19220</td>\n",
       "      <td>0.3215</td>\n",
       "      <td>0.1628</td>\n",
       "      <td>0.2572</td>\n",
       "      <td>0.06637</td>\n",
       "      <td>M</td>\n",
       "    </tr>\n",
       "    <tr>\n",
       "      <th>566</th>\n",
       "      <td>16.60</td>\n",
       "      <td>28.08</td>\n",
       "      <td>108.30</td>\n",
       "      <td>858.1</td>\n",
       "      <td>0.08455</td>\n",
       "      <td>0.10230</td>\n",
       "      <td>0.09251</td>\n",
       "      <td>0.05302</td>\n",
       "      <td>0.1590</td>\n",
       "      <td>0.05648</td>\n",
       "      <td>...</td>\n",
       "      <td>34.12</td>\n",
       "      <td>126.70</td>\n",
       "      <td>1124.0</td>\n",
       "      <td>0.11390</td>\n",
       "      <td>0.30940</td>\n",
       "      <td>0.3403</td>\n",
       "      <td>0.1418</td>\n",
       "      <td>0.2218</td>\n",
       "      <td>0.07820</td>\n",
       "      <td>M</td>\n",
       "    </tr>\n",
       "    <tr>\n",
       "      <th>567</th>\n",
       "      <td>20.60</td>\n",
       "      <td>29.33</td>\n",
       "      <td>140.10</td>\n",
       "      <td>1265.0</td>\n",
       "      <td>0.11780</td>\n",
       "      <td>0.27700</td>\n",
       "      <td>0.35140</td>\n",
       "      <td>0.15200</td>\n",
       "      <td>0.2397</td>\n",
       "      <td>0.07016</td>\n",
       "      <td>...</td>\n",
       "      <td>39.42</td>\n",
       "      <td>184.60</td>\n",
       "      <td>1821.0</td>\n",
       "      <td>0.16500</td>\n",
       "      <td>0.86810</td>\n",
       "      <td>0.9387</td>\n",
       "      <td>0.2650</td>\n",
       "      <td>0.4087</td>\n",
       "      <td>0.12400</td>\n",
       "      <td>M</td>\n",
       "    </tr>\n",
       "    <tr>\n",
       "      <th>568</th>\n",
       "      <td>7.76</td>\n",
       "      <td>24.54</td>\n",
       "      <td>47.92</td>\n",
       "      <td>181.0</td>\n",
       "      <td>0.05263</td>\n",
       "      <td>0.04362</td>\n",
       "      <td>0.00000</td>\n",
       "      <td>0.00000</td>\n",
       "      <td>0.1587</td>\n",
       "      <td>0.05884</td>\n",
       "      <td>...</td>\n",
       "      <td>30.37</td>\n",
       "      <td>59.16</td>\n",
       "      <td>268.6</td>\n",
       "      <td>0.08996</td>\n",
       "      <td>0.06444</td>\n",
       "      <td>0.0000</td>\n",
       "      <td>0.0000</td>\n",
       "      <td>0.2871</td>\n",
       "      <td>0.07039</td>\n",
       "      <td>B</td>\n",
       "    </tr>\n",
       "  </tbody>\n",
       "</table>\n",
       "<p>569 rows × 31 columns</p>\n",
       "</div>"
      ],
      "text/plain": [
       "     radius1  texture1  perimeter1   area1  smoothness1  compactness1  \\\n",
       "0      17.99     10.38      122.80  1001.0      0.11840       0.27760   \n",
       "1      20.57     17.77      132.90  1326.0      0.08474       0.07864   \n",
       "2      19.69     21.25      130.00  1203.0      0.10960       0.15990   \n",
       "3      11.42     20.38       77.58   386.1      0.14250       0.28390   \n",
       "4      20.29     14.34      135.10  1297.0      0.10030       0.13280   \n",
       "..       ...       ...         ...     ...          ...           ...   \n",
       "564    21.56     22.39      142.00  1479.0      0.11100       0.11590   \n",
       "565    20.13     28.25      131.20  1261.0      0.09780       0.10340   \n",
       "566    16.60     28.08      108.30   858.1      0.08455       0.10230   \n",
       "567    20.60     29.33      140.10  1265.0      0.11780       0.27700   \n",
       "568     7.76     24.54       47.92   181.0      0.05263       0.04362   \n",
       "\n",
       "     concavity1  concave_points1  symmetry1  fractal_dimension1  ...  \\\n",
       "0       0.30010          0.14710     0.2419             0.07871  ...   \n",
       "1       0.08690          0.07017     0.1812             0.05667  ...   \n",
       "2       0.19740          0.12790     0.2069             0.05999  ...   \n",
       "3       0.24140          0.10520     0.2597             0.09744  ...   \n",
       "4       0.19800          0.10430     0.1809             0.05883  ...   \n",
       "..          ...              ...        ...                 ...  ...   \n",
       "564     0.24390          0.13890     0.1726             0.05623  ...   \n",
       "565     0.14400          0.09791     0.1752             0.05533  ...   \n",
       "566     0.09251          0.05302     0.1590             0.05648  ...   \n",
       "567     0.35140          0.15200     0.2397             0.07016  ...   \n",
       "568     0.00000          0.00000     0.1587             0.05884  ...   \n",
       "\n",
       "     texture3  perimeter3   area3  smoothness3  compactness3  concavity3  \\\n",
       "0       17.33      184.60  2019.0      0.16220       0.66560      0.7119   \n",
       "1       23.41      158.80  1956.0      0.12380       0.18660      0.2416   \n",
       "2       25.53      152.50  1709.0      0.14440       0.42450      0.4504   \n",
       "3       26.50       98.87   567.7      0.20980       0.86630      0.6869   \n",
       "4       16.67      152.20  1575.0      0.13740       0.20500      0.4000   \n",
       "..        ...         ...     ...          ...           ...         ...   \n",
       "564     26.40      166.10  2027.0      0.14100       0.21130      0.4107   \n",
       "565     38.25      155.00  1731.0      0.11660       0.19220      0.3215   \n",
       "566     34.12      126.70  1124.0      0.11390       0.30940      0.3403   \n",
       "567     39.42      184.60  1821.0      0.16500       0.86810      0.9387   \n",
       "568     30.37       59.16   268.6      0.08996       0.06444      0.0000   \n",
       "\n",
       "     concave_points3  symmetry3  fractal_dimension3  Diagnosis  \n",
       "0             0.2654     0.4601             0.11890          M  \n",
       "1             0.1860     0.2750             0.08902          M  \n",
       "2             0.2430     0.3613             0.08758          M  \n",
       "3             0.2575     0.6638             0.17300          M  \n",
       "4             0.1625     0.2364             0.07678          M  \n",
       "..               ...        ...                 ...        ...  \n",
       "564           0.2216     0.2060             0.07115          M  \n",
       "565           0.1628     0.2572             0.06637          M  \n",
       "566           0.1418     0.2218             0.07820          M  \n",
       "567           0.2650     0.4087             0.12400          M  \n",
       "568           0.0000     0.2871             0.07039          B  \n",
       "\n",
       "[569 rows x 31 columns]"
      ]
     },
     "metadata": {},
     "output_type": "display_data"
    }
   ],
   "source": [
    "display(df)"
   ]
  },
  {
   "cell_type": "markdown",
   "id": "2762090f",
   "metadata": {},
   "source": [
    "Visualisasi distribusi data"
   ]
  },
  {
   "cell_type": "code",
   "execution_count": 99,
   "id": "b2602e2a",
   "metadata": {},
   "outputs": [
    {
     "name": "stdout",
     "output_type": "stream",
     "text": [
      "Requirement already satisfied: matplotlib in /usr/local/python/3.12.1/lib/python3.12/site-packages (3.10.3)\n",
      "Requirement already satisfied: seaborn in /home/codespace/.local/lib/python3.12/site-packages (0.13.2)\n",
      "Requirement already satisfied: contourpy>=1.0.1 in /home/codespace/.local/lib/python3.12/site-packages (from matplotlib) (1.3.1)\n",
      "Requirement already satisfied: cycler>=0.10 in /home/codespace/.local/lib/python3.12/site-packages (from matplotlib) (0.12.1)\n",
      "Requirement already satisfied: fonttools>=4.22.0 in /home/codespace/.local/lib/python3.12/site-packages (from matplotlib) (4.55.3)\n",
      "Requirement already satisfied: kiwisolver>=1.3.1 in /home/codespace/.local/lib/python3.12/site-packages (from matplotlib) (1.4.7)\n",
      "Requirement already satisfied: numpy>=1.23 in /usr/local/python/3.12.1/lib/python3.12/site-packages (from matplotlib) (1.26.4)\n",
      "Requirement already satisfied: packaging>=20.0 in /home/codespace/.local/lib/python3.12/site-packages (from matplotlib) (24.2)\n",
      "Requirement already satisfied: pillow>=8 in /home/codespace/.local/lib/python3.12/site-packages (from matplotlib) (11.0.0)\n",
      "Requirement already satisfied: pyparsing>=2.3.1 in /home/codespace/.local/lib/python3.12/site-packages (from matplotlib) (3.2.0)\n",
      "Requirement already satisfied: python-dateutil>=2.7 in /home/codespace/.local/lib/python3.12/site-packages (from matplotlib) (2.9.0.post0)\n",
      "Requirement already satisfied: pandas>=1.2 in /home/codespace/.local/lib/python3.12/site-packages (from seaborn) (2.2.3)\n",
      "Requirement already satisfied: pytz>=2020.1 in /home/codespace/.local/lib/python3.12/site-packages (from pandas>=1.2->seaborn) (2024.2)\n",
      "Requirement already satisfied: tzdata>=2022.7 in /home/codespace/.local/lib/python3.12/site-packages (from pandas>=1.2->seaborn) (2024.2)\n",
      "Requirement already satisfied: six>=1.5 in /home/codespace/.local/lib/python3.12/site-packages (from python-dateutil>=2.7->matplotlib) (1.17.0)\n",
      "Note: you may need to restart the kernel to use updated packages.\n"
     ]
    }
   ],
   "source": [
    "pip install matplotlib seaborn"
   ]
  },
  {
   "cell_type": "code",
   "execution_count": 100,
   "id": "6226459a",
   "metadata": {},
   "outputs": [
    {
     "data": {
      "image/png": "[encoded data removed]",
      "text/plain": [
       "<Figure size 600x400 with 1 Axes>"
      ]
     },
     "metadata": {},
     "output_type": "display_data"
    },
    {
     "data": {
      "image/png": "[encoded data removed]",
      "text/plain": [
       "<Figure size 600x400 with 1 Axes>"
      ]
     },
     "metadata": {},
     "output_type": "display_data"
    },
    {
     "data": {
      "image/png": "[encoded data removed]",
      "text/plain": [
       "<Figure size 600x400 with 1 Axes>"
      ]
     },
     "metadata": {},
     "output_type": "display_data"
    },
    {
     "data": {
      "image/png": "[encoded data removed]",
      "text/plain": [
       "<Figure size 600x400 with 1 Axes>"
      ]
     },
     "metadata": {},
     "output_type": "display_data"
    },
    {
     "name": "stderr",
     "output_type": "stream",
     "text": [
      "/tmp/ipykernel_8675/566655522.py:28: FutureWarning: \n",
      "\n",
      "Passing `palette` without assigning `hue` is deprecated and will be removed in v0.14.0. Assign the `x` variable to `hue` and set `legend=False` for the same effect.\n",
      "\n",
      "  sns.boxplot(data=df, x=kolom_target, y='radius1', palette='Set3')\n"
     ]
    },
    {
     "data": {
      "image/png": "[encoded data removed]",
      "text/plain": [
       "<Figure size 600x400 with 1 Axes>"
      ]
     },
     "metadata": {},
     "output_type": "display_data"
    }
   ],
   "source": [
    "import matplotlib.pyplot as plt\n",
    "import seaborn as sns\n",
    "\n",
    "# Pastikan kolom Diagnosis ada\n",
    "kolom_target = 'Diagnosis'\n",
    "\n",
    "# 1. Visualisasi distribusi diagnosis\n",
    "plt.figure(figsize=(6, 4))\n",
    "sns.countplot(data=df, x=kolom_target, hue=kolom_target, palette='Set2', legend=False)\n",
    "plt.title(\"Distribusi Diagnosis (Benign vs Malignant)\")\n",
    "plt.xlabel(\"Diagnosis\")\n",
    "plt.ylabel(\"Jumlah\")\n",
    "plt.show()\n",
    "\n",
    "# 2. Visualisasi distribusi fitur (contoh: mean features)\n",
    "fitur_pilihan = ['radius1', 'texture1', 'area1']  # 1 = mean\n",
    "\n",
    "for fitur in fitur_pilihan:\n",
    "    plt.figure(figsize=(6, 4))\n",
    "    sns.histplot(data=df, x=fitur, hue=kolom_target, kde=True, palette='Set1', element='step')\n",
    "    plt.title(f\"Distribusi Fitur: {fitur}\")\n",
    "    plt.xlabel(fitur)\n",
    "    plt.ylabel(\"Jumlah\")\n",
    "    plt.show()\n",
    "\n",
    "# 3. Boxplot berdasarkan diagnosis\n",
    "plt.figure(figsize=(6, 4))\n",
    "sns.boxplot(data=df, x=kolom_target, y='radius1', palette='Set3')\n",
    "plt.title(\"Boxplot Radius1 (Mean) Berdasarkan Diagnosis\")\n",
    "plt.xlabel(\"Diagnosis\")\n",
    "plt.ylabel(\"radius1\")\n",
    "plt.show()\n"
   ]
  },
  {
   "cell_type": "markdown",
   "id": "c9a09edd",
   "metadata": {},
   "source": [
    "## Struktur Dataset"
   ]
  },
  {
   "cell_type": "markdown",
   "id": "042153d9",
   "metadata": {},
   "source": [
    "### Fitur dan Label  \n"
   ]
  },
  {
   "cell_type": "code",
   "execution_count": 101,
   "id": "14bb627d",
   "metadata": {},
   "outputs": [
    {
     "data": {
      "text/plain": [
       "(569, 31)"
      ]
     },
     "execution_count": 101,
     "metadata": {},
     "output_type": "execute_result"
    }
   ],
   "source": [
    "df.shape"
   ]
  },
  {
   "cell_type": "markdown",
   "id": "4d5b3844",
   "metadata": {},
   "source": [
    "Terdapat 569 baris data dan 31 kolom"
   ]
  },
  {
   "cell_type": "code",
   "execution_count": 102,
   "id": "a244407f",
   "metadata": {},
   "outputs": [
    {
     "data": {
      "text/plain": [
       "Index(['radius1', 'texture1', 'perimeter1', 'area1', 'smoothness1',\n",
       "       'compactness1', 'concavity1', 'concave_points1', 'symmetry1',\n",
       "       'fractal_dimension1', 'radius2', 'texture2', 'perimeter2', 'area2',\n",
       "       'smoothness2', 'compactness2', 'concavity2', 'concave_points2',\n",
       "       'symmetry2', 'fractal_dimension2', 'radius3', 'texture3', 'perimeter3',\n",
       "       'area3', 'smoothness3', 'compactness3', 'concavity3', 'concave_points3',\n",
       "       'symmetry3', 'fractal_dimension3', 'Diagnosis'],\n",
       "      dtype='object')"
      ]
     },
     "execution_count": 102,
     "metadata": {},
     "output_type": "execute_result"
    }
   ],
   "source": [
    "df.columns"
   ]
  },
  {
   "cell_type": "markdown",
   "id": "554d00d5",
   "metadata": {},
   "source": [
    "Fitur adalah variabel atau atribut yang digunakan sebagai input dalam proses analisis data dan pemodelan machine learning. Fitur mewakili karakteristik, sifat, atau informasi yang dimiliki oleh suatu data. Terdapat 30 fitur dan 1 class pada dataset ini yaitu :  \n",
    "* Fitur Mean (akhiran 1)\n",
    "1. radius1: Rata-rata jarak dari pusat ke batas inti sel.\n",
    "\n",
    "2. texture1: Rata-rata variasi tingkat keabuan (tekstur permukaan inti sel).\n",
    "\n",
    "3. perimeter1: Rata-rata keliling dari inti sel.\n",
    "\n",
    "4. area1: Rata-rata luas area inti sel.\n",
    "\n",
    "5. smoothness1: Rata-rata kelicinan batas inti sel.\n",
    "\n",
    "6. compactness1: Rata-rata kekompakan inti sel (perimeter² / area - 1.0).\n",
    "\n",
    "7. concavity1: Rata-rata tingkat cekungan pada kontur inti sel.\n",
    "\n",
    "8. concave_points1: Rata-rata jumlah titik-titik cekung pada kontur inti sel.\n",
    "\n",
    "9. symmetry1: Rata-rata tingkat kesimetrian inti sel.\n",
    "\n",
    "10. fractal_dimension1: Rata-rata kompleksitas kontur inti sel berdasarkan dimensi fraktal.  \n",
    "\n",
    "*  Fitur Standard Error (akhiran 2)  \n",
    "11. radius2: Standard error dari ukuran radius inti sel.\n",
    "\n",
    "12. texture2: Standard error dari tekstur inti sel.\n",
    "\n",
    "13. perimeter2: Standard error dari keliling inti sel.\n",
    "\n",
    "14. area2: Standard error dari luas area inti sel.\n",
    "\n",
    "15. smoothness2: Standard error dari kelicinan batas inti sel.\n",
    "\n",
    "16. compactness2: Standard error dari kekompakan inti sel.\n",
    "\n",
    "17. concavity2: Standard error dari tingkat cekungan kontur inti sel.\n",
    "\n",
    "18. concave_points2: Standard error dari jumlah titik cekung pada kontur inti sel.\n",
    "\n",
    "19. symmetry2: Standard error dari tingkat simetri inti sel.\n",
    "\n",
    "20. fractal_dimension2: Standard error dari kompleksitas kontur inti sel.  \n",
    "\n",
    "* Fitur Terburuk (akhiran 3)  \n",
    "21. radius3: Nilai maksimum radius inti sel (terburuk).\n",
    "\n",
    "22. texture3: Nilai maksimum variasi tekstur inti sel.\n",
    "\n",
    "23. perimeter3: Nilai maksimum keliling inti sel.\n",
    "\n",
    "24. area3: Nilai maksimum luas area inti sel.\n",
    "\n",
    "25. smoothness3: Nilai maksimum kelicinan batas inti sel.\n",
    "\n",
    "26. compactness3: Nilai maksimum kekompakan inti sel.\n",
    "\n",
    "27. concavity3: Nilai maksimum tingkat cekungan kontur inti sel.\n",
    "\n",
    "28. concave_points3: Nilai maksimum jumlah titik-titik cekung pada kontur inti sel.\n",
    "\n",
    "29. symmetry3: Nilai maksimum tingkat simetri inti sel.\n",
    "\n",
    "30. fractal_dimension3: Nilai maksimum kompleksitas kontur inti sel.  \n",
    "\n",
    "*  Kolom Target  \n",
    "31. Diagnosis: Label target yang menunjukkan jenis tumor:  \n",
    "* M = Malignant (ganas)  \n",
    "B = Benign (jinak)"
   ]
  },
  {
   "cell_type": "code",
   "execution_count": 103,
   "id": "506c7e7f",
   "metadata": {},
   "outputs": [
    {
     "data": {
      "text/plain": [
       "radius1               float64\n",
       "texture1              float64\n",
       "perimeter1            float64\n",
       "area1                 float64\n",
       "smoothness1           float64\n",
       "compactness1          float64\n",
       "concavity1            float64\n",
       "concave_points1       float64\n",
       "symmetry1             float64\n",
       "fractal_dimension1    float64\n",
       "radius2               float64\n",
       "texture2              float64\n",
       "perimeter2            float64\n",
       "area2                 float64\n",
       "smoothness2           float64\n",
       "compactness2          float64\n",
       "concavity2            float64\n",
       "concave_points2       float64\n",
       "symmetry2             float64\n",
       "fractal_dimension2    float64\n",
       "radius3               float64\n",
       "texture3              float64\n",
       "perimeter3            float64\n",
       "area3                 float64\n",
       "smoothness3           float64\n",
       "compactness3          float64\n",
       "concavity3            float64\n",
       "concave_points3       float64\n",
       "symmetry3             float64\n",
       "fractal_dimension3    float64\n",
       "Diagnosis              object\n",
       "dtype: object"
      ]
     },
     "execution_count": 103,
     "metadata": {},
     "output_type": "execute_result"
    }
   ],
   "source": [
    "df.dtypes"
   ]
  },
  {
   "cell_type": "markdown",
   "id": "95a53bec",
   "metadata": {},
   "source": [
    "Semua fitur memiliki tipe data float sedangkan target/class bertipe data object/kategorikal"
   ]
  },
  {
   "cell_type": "code",
   "execution_count": 104,
   "id": "7df8ef9a",
   "metadata": {},
   "outputs": [
    {
     "data": {
      "text/plain": [
       "Diagnosis\n",
       "B    357\n",
       "M    212\n",
       "dtype: int64"
      ]
     },
     "execution_count": 104,
     "metadata": {},
     "output_type": "execute_result"
    }
   ],
   "source": [
    "df.groupby('Diagnosis').size()"
   ]
  },
  {
   "cell_type": "markdown",
   "id": "2e25ef79",
   "metadata": {},
   "source": [
    "Pada kelas Malignant (ganas) sebanyak 212 data, sedangkan kelas Benign (jinak) sebanyak 357 data."
   ]
  },
  {
   "cell_type": "markdown",
   "id": "7c5f4bb5",
   "metadata": {},
   "source": [
    "### Mengidentifikasi Kualitas Dataset  "
   ]
  },
  {
   "cell_type": "markdown",
   "id": "1404f54c",
   "metadata": {},
   "source": [
    "1. Cek Missing Value (Nilai Hilang)  \n",
    "* Memeriksa apakah ada data yang kosong (NaN) pada kolom fitur atau target.  \n",
    "* Tidak ada mising value pada dataset"
   ]
  },
  {
   "cell_type": "code",
   "execution_count": 105,
   "id": "09587714",
   "metadata": {},
   "outputs": [
    {
     "name": "stdout",
     "output_type": "stream",
     "text": [
      "radius1               0\n",
      "texture1              0\n",
      "perimeter1            0\n",
      "area1                 0\n",
      "smoothness1           0\n",
      "compactness1          0\n",
      "concavity1            0\n",
      "concave_points1       0\n",
      "symmetry1             0\n",
      "fractal_dimension1    0\n",
      "radius2               0\n",
      "texture2              0\n",
      "perimeter2            0\n",
      "area2                 0\n",
      "smoothness2           0\n",
      "compactness2          0\n",
      "concavity2            0\n",
      "concave_points2       0\n",
      "symmetry2             0\n",
      "fractal_dimension2    0\n",
      "radius3               0\n",
      "texture3              0\n",
      "perimeter3            0\n",
      "area3                 0\n",
      "smoothness3           0\n",
      "compactness3          0\n",
      "concavity3            0\n",
      "concave_points3       0\n",
      "symmetry3             0\n",
      "fractal_dimension3    0\n",
      "Diagnosis             0\n",
      "dtype: int64\n"
     ]
    }
   ],
   "source": [
    "print(df.isnull().sum())"
   ]
  },
  {
   "cell_type": "markdown",
   "id": "566e65da",
   "metadata": {},
   "source": [
    "2. Cek Duplikat  \n",
    "* Mengidentifikasi apakah ada baris data yang terduplikasi.  \n",
    "* Tidak ada data duplikat pada dataset ini"
   ]
  },
  {
   "cell_type": "code",
   "execution_count": 106,
   "id": "123e6381",
   "metadata": {},
   "outputs": [
    {
     "data": {
      "text/plain": [
       "0"
      ]
     },
     "execution_count": 106,
     "metadata": {},
     "output_type": "execute_result"
    }
   ],
   "source": [
    "df.duplicated().sum()"
   ]
  },
  {
   "cell_type": "markdown",
   "id": "ab48e47f",
   "metadata": {},
   "source": [
    "## Preprocessing  Data  \n"
   ]
  },
  {
   "cell_type": "markdown",
   "id": "7b23a619",
   "metadata": {},
   "source": [
    "### Transformasi Data  \n",
    "Pada Dataset ini class yang ada di kolom Diagnosis bertipe data kategorikal, maka perlu dilakukan transformasi data yaitu mengubah data kategorikal ke data numerik. Kelas Malignant menjadi 1 dan Benign menjadi 0."
   ]
  },
  {
   "cell_type": "code",
   "execution_count": 107,
   "id": "3e32f5c9",
   "metadata": {},
   "outputs": [
    {
     "name": "stdout",
     "output_type": "stream",
     "text": [
      "Diagnosis\n",
      "0    357\n",
      "1    212\n",
      "Name: count, dtype: int64\n"
     ]
    }
   ],
   "source": [
    "# Ubah nilai Diagnosis dari M/B menjadi 1/0\n",
    "df['Diagnosis'] = df['Diagnosis'].map({'M': 1, 'B': 0})\n",
    "\n",
    "# Cek hasil transformasi\n",
    "print(df['Diagnosis'].value_counts())\n",
    "\n",
    "df_clean.to_csv(\"encode.csv\", index=False)"
   ]
  },
  {
   "cell_type": "markdown",
   "id": "de78f38d",
   "metadata": {},
   "source": [
    "### Mendeteksi dan Menghapus Outlier dengan LOF  \n",
    "**Konsep Local Outlier Factor**  \n",
    "Local Outlier Factor (LOF) adalah sebuah metode deteksi outlier berbasis tetangga terdekat (k-NN) yang mengukur seberapa jauh kepadatan lokal sebuah titik data dibandingkan dengan kepadatan tetangganya.\n",
    "\n",
    "LOF tidak hanya melihat seberapa jauh suatu titik dari titik lainnya, tetapi juga membandingkan kepadatan lokal di sekitarnya. Jadi, LOF bisa mendeteksi outlier yang “lokal”, yaitu titik-titik yang menyimpang dalam wilayah padat maupun wilayah jarang.  \n",
    "\n",
    "**Langkah-langkah LOF**  \n",
    "1. Menentukan jumlah tetangga terdekat (k-nearest neighbors)  \n",
    "2. Menghitung reachability distance untuk setiap titik.  \n",
    "3. Menghitung local reachability density (LRD).  \n",
    "4. Menghitung LOF sebagai rasio LRD titik terhadap LRD tetangganya.  \n",
    "5. Menentukan apakah titik termasuk outlier berdasarkan skor LOF.  \n",
    "\n"
   ]
  },
  {
   "cell_type": "code",
   "execution_count": 108,
   "id": "21d2ab3e",
   "metadata": {},
   "outputs": [
    {
     "name": "stdout",
     "output_type": "stream",
     "text": [
      "Jumlah data sebelum dibersihkan: 513\n",
      "Jumlah data setelah dibersihkan : 487\n",
      "Jumlah outlier yang dihapus     : 26\n"
     ]
    }
   ],
   "source": [
    "import pandas as pd\n",
    "from sklearn.neighbors import LocalOutlierFactor\n",
    "\n",
    "# 1. Load file CSV (yang sudah di-encode Diagnosis)\n",
    "df = pd.read_csv('encode.csv')\n",
    "\n",
    "\n",
    "# 3. Pisahkan fitur numerik (tanpa Diagnosis dan ID)\n",
    "fitur = df.drop(columns=['ID', 'Diagnosis','LOF Score', 'Prediksi'])\n",
    "\n",
    "# 4. Terapkan LOF\n",
    "lof = LocalOutlierFactor(n_neighbors=20, contamination=0.05)\n",
    "pred = lof.fit_predict(fitur)  # Hasil: 1 (inlier), -1 (outlier)\n",
    "\n",
    "# 5. Hapus outlier\n",
    "df_clean = df[pred == 1].copy()\n",
    "\n",
    "# 6. Tampilkan info pembersihan\n",
    "print(\"Jumlah data sebelum dibersihkan:\", df.shape[0])\n",
    "print(\"Jumlah data setelah dibersihkan :\", df_clean.shape[0])\n",
    "print(\"Jumlah outlier yang dihapus     :\", df.shape[0] - df_clean.shape[0])\n",
    "\n",
    "# 7. Simpan hasil bersih (jika ingin)\n",
    "df_clean.to_csv(\"breast_cancer_tanpa_outlier.csv\", index=False)\n"
   ]
  },
  {
   "cell_type": "markdown",
   "id": "f97c65e6",
   "metadata": {},
   "source": [
    "### Modelling Klasifikasi Gaussian Naive Bayes  \n",
    "Gaussian Naive Bayes merupakan salah satu algoritma klasifikasi dalam pembelajaran mesin yang berdasarkan pada teorema Bayes dengan asumsi bahwa antar fitur tidak saling bergantung (naive assumption) dan data numerik berdistribusi normal (Gaussian distribution).\n",
    "\n",
    "Algoritma ini sangat cocok digunakan untuk data dengan fitur numerik, seperti dataset Breast Cancer Wisconsin (Diagnostic) yang memiliki fitur hasil pengukuran morfologi sel. Gaussian Naive Bayes menghitung peluang masing-masing kelas berdasarkan distribusi normal dari setiap fitur, kemudian memilih kelas dengan probabilitas tertinggi sebagai prediksi.  \n",
    "\n",
    "#### Tujuan Modeling\n",
    "Tujuan dari penerapan Gaussian Naive Bayes pada dataset ini adalah untuk:\n",
    "\n",
    "Mengklasifikasikan data menjadi dua kelas, yaitu benign (jinak) dan malignant (ganas).\n",
    "\n",
    "Mengukur performa model dalam mendeteksi kanker payudara berdasarkan fitur-fitur numerik yang tersedia.\n",
    "\n",
    "#### Langkah-langkah Modeling  \n",
    "1. Membagi Data (Train-Test Split)  \n",
    "Data dibagi menjadi dua bagian menggunakan metode train_test_split :  \n",
    "* 80% data untuk pelatihan (training)  \n",
    "* 20% data untuk pengujian (testing)\n",
    "Pembagian dilakukan secara acak dengan parameter random_state untuk hasil yang konsisten.  \n",
    "\n",
    "2. Pelatihan Model  \n",
    "Model Gaussian Naive Bayes dibuat menggunakan pustaka sklearn.naive_bayes.GaussianNB, dan dilatih pada data training.  \n",
    "\n",
    "3. Prediksi dan Evaluasi\n",
    "Setelah model dilatih, data testing digunakan untuk melakukan prediksi. Evaluasi dilakukan menggunakan beberapa metrik:  \n",
    "* Akurasi: Persentase prediksi yang benar dari total data.\n",
    "* Confusion Matrix: Matriks yang menunjukkan jumlah true positive, false positive, true negative, dan false negative.\n",
    "* Classification Report: Menyajikan metrik precision, recall, dan F1-score untuk tiap kelas.  \n",
    "\n"
   ]
  },
  {
   "cell_type": "code",
   "execution_count": 109,
   "id": "c976ab11",
   "metadata": {},
   "outputs": [
    {
     "data": {
      "text/plain": [
       "Index(['ID', 'radius1', 'texture1', 'perimeter1', 'area1', 'smoothness1',\n",
       "       'compactness1', 'concavity1', 'concave_points1', 'symmetry1',\n",
       "       'fractal_dimension1', 'radius2', 'texture2', 'perimeter2', 'area2',\n",
       "       'smoothness2', 'compactness2', 'concavity2', 'concave_points2',\n",
       "       'symmetry2', 'fractal_dimension2', 'radius3', 'texture3', 'perimeter3',\n",
       "       'area3', 'smoothness3', 'compactness3', 'concavity3', 'concave_points3',\n",
       "       'symmetry3', 'fractal_dimension3', 'Diagnosis', 'LOF Score',\n",
       "       'Prediksi'],\n",
       "      dtype='object')"
      ]
     },
     "execution_count": 109,
     "metadata": {},
     "output_type": "execute_result"
    }
   ],
   "source": [
    "df.columns"
   ]
  },
  {
   "cell_type": "code",
   "execution_count": 114,
   "id": "889ceeb3",
   "metadata": {},
   "outputs": [
    {
     "name": "stdout",
     "output_type": "stream",
     "text": [
      "Akurasi       : 0.9795918367346939\n",
      "\n",
      "Confusion Matrix:\n",
      " [[65  1]\n",
      " [ 1 31]]\n",
      "\n",
      "Classification Report:\n",
      "               precision    recall  f1-score   support\n",
      "\n",
      "           0       0.98      0.98      0.98        66\n",
      "           1       0.97      0.97      0.97        32\n",
      "\n",
      "    accuracy                           0.98        98\n",
      "   macro avg       0.98      0.98      0.98        98\n",
      "weighted avg       0.98      0.98      0.98        98\n",
      "\n"
     ]
    }
   ],
   "source": [
    "from sklearn.model_selection import train_test_split\n",
    "from sklearn.naive_bayes import GaussianNB\n",
    "from sklearn.metrics import classification_report, confusion_matrix, accuracy_score\n",
    "import pandas as pd\n",
    "\n",
    "# 1. Load data tanpa outlier\n",
    "df = pd.read_csv('breast_cancer_tanpa_outlier.csv')\n",
    "\n",
    "# 2. Pisahkan fitur dan target\n",
    "X = df.drop(columns=['Diagnosis', 'ID', 'LOF Score', 'Prediksi'], errors='ignore')\n",
    "y = df['Diagnosis']\n",
    "\n",
    "# 3. Split data training dan testing\n",
    "X_train, X_test, y_train, y_test = train_test_split(X, y, test_size=0.2, random_state=42)\n",
    "\n",
    "# 4. Model Gaussian Naive Bayes\n",
    "model = GaussianNB()\n",
    "model.fit(X_train, y_train)\n",
    "\n",
    "# 5. Prediksi dan evaluasi\n",
    "y_pred = model.predict(X_test)\n",
    "\n",
    "print(\"Akurasi       :\", accuracy_score(y_test, y_pred))\n",
    "print(\"\\nConfusion Matrix:\\n\", confusion_matrix(y_test, y_pred))\n",
    "print(\"\\nClassification Report:\\n\", classification_report(y_test, y_pred))\n"
   ]
  },
  {
   "cell_type": "markdown",
   "id": "6b3d789a",
   "metadata": {},
   "source": [
    "### Modelling Klasifikasi Decision Tree  \n",
    "Decision Tree (pohon keputusan) adalah salah satu algoritma dalam pembelajaran mesin yang digunakan untuk klasifikasi dan regresi, dengan cara membagi data ke dalam kelompok-kelompok berdasarkan serangkaian aturan keputusan (if-then-else) yang diturunkan dari fitur-fitur input.\n",
    "Model ini berbentuk seperti struktur pohon, di mana:  \n",
    "* Node merepresentasikan atribut/fitur,\n",
    "* Cabang (branch) mewakili kondisi atau aturan,\n",
    "* Daun (leaf node) merupakan hasil akhir berupa kelas prediksi.  \n",
    "\n",
    "#### Tujuan Modeling\n",
    "Penerapan Decision Tree pada dataset Breast Cancer Wisconsin (Diagnostic) bertujuan untuk:  \n",
    "* Membangun model klasifikasi yang mampu memprediksi apakah suatu sampel merupakan kanker ganas (malignant) atau jinak (benign).\n",
    "* Memahami alur pengambilan keputusan berdasarkan fitur morfologi sel dalam data.  \n",
    "\n",
    "#### Langkah-langkah Modelling  \n",
    "1. Membagian Data (Train-Test Split)  \n",
    "Dataset dibagi menjadi data pelatihan dan data pengujian dengan proporsi 80:20 menggunakan fungsi train_test_split. Data pelatihan digunakan untuk membangun model, sementara data pengujian digunakan untuk mengukur performa model terhadap data yang belum pernah dilihat.  \n",
    "2. Pembuatan dan Pelatihan Model  \n",
    "Model Decision Tree dibangun menggunakan pustaka sklearn.tree.DecisionTreeClassifier. Algoritma ini secara otomatis membentuk struktur pohon berdasarkan pembagian data yang memaksimalkan gain informasi (Information Gain) atau impuritas seperti Gini index.  \n",
    "3. Prediksi dan Evaluasi\n",
    "Setelah model dilatih, dilakukan prediksi terhadap data pengujian. Evaluasi model dilakukan dengan metrik:\n",
    "* Akurasi: Tingkat ketepatan model dalam memprediksi label.  \n",
    "* Confusion Matrix: Matriks yang menggambarkan jumlah prediksi benar dan salah.  \n",
    "* Classification Report: Berisi metrik precision, recall, dan F1-score untuk tiap kelas.\n",
    "\n",
    "\n"
   ]
  },
  {
   "cell_type": "code",
   "execution_count": 118,
   "id": "e23500ce",
   "metadata": {},
   "outputs": [
    {
     "name": "stdout",
     "output_type": "stream",
     "text": [
      "Akurasi       : 0.9795918367346939\n",
      "\n",
      "Confusion Matrix:\n",
      " [[65  1]\n",
      " [ 1 31]]\n",
      "\n",
      "Classification Report:\n",
      "               precision    recall  f1-score   support\n",
      "\n",
      "           0       0.98      0.98      0.98        66\n",
      "           1       0.97      0.97      0.97        32\n",
      "\n",
      "    accuracy                           0.98        98\n",
      "   macro avg       0.98      0.98      0.98        98\n",
      "weighted avg       0.98      0.98      0.98        98\n",
      "\n"
     ]
    }
   ],
   "source": [
    "\n",
    "from ucimlrepo import fetch_ucirepo\n",
    "import pandas as pd\n",
    "from sklearn.model_selection import train_test_split\n",
    "from sklearn.tree import DecisionTreeClassifier\n",
    "from sklearn.metrics import classification_report, confusion_matrix, accuracy_score\n",
    "\n",
    "# 1. Load data tanpa outlier\n",
    "df = pd.read_csv('breast_cancer_tanpa_outlier.csv')\n",
    "\n",
    "# 2. Pisahkan fitur dan target\n",
    "X = df.drop(columns=['Diagnosis', 'ID', 'LOF Score', 'Prediksi'], errors='ignore')\n",
    "y = df['Diagnosis']\n",
    "\n",
    "# Split data: 80% training, 20% testing\n",
    "X_train, X_test, y_train, y_test = train_test_split(X, y, test_size=0.2, random_state=42)\n",
    "\n",
    "# Buat dan latih model Decision Tree\n",
    "modeldt = DecisionTreeClassifier(random_state=42)\n",
    "modeldt.fit(X_train, y_train)\n",
    "\n",
    "# Prediksi data test\n",
    "y_pred = modeldt.predict(X_test)\n",
    "\n",
    "# Evaluasi model\n",
    "print(\"Akurasi       :\", accuracy_score(y_test, y_pred))\n",
    "print(\"\\nConfusion Matrix:\\n\", confusion_matrix(y_test, y_pred))\n",
    "print(\"\\nClassification Report:\\n\", classification_report(y_test, y_pred))\n"
   ]
  },
  {
   "cell_type": "markdown",
   "id": "44d85e57",
   "metadata": {},
   "source": [
    "### Evaluasi \n",
    "$\n",
    "\\begin{array}{lcccc}\n",
    "\\hline\n",
    "\\textbf{Model} & \\textbf{Akurasi} \\\\\n",
    "\\hline\n",
    "\\text{Gaussian Naive Bayes} & 0.9795918367346939 \\\\\n",
    "\\text{Decision tree} &  0.9795918367346939 \\\\\n",
    "\\hline\n",
    "\\end{array}\n",
    "$  \n",
    "\n",
    "Kedua model menunjukkan hasil akurasi yang sama, yaitu sebesar 97.96%, yang menunjukkan bahwa model mampu memprediksi jenis kanker dengan tingkat ketepatan yang sangat tinggi.\n",
    "\n",
    "Hasil confusion matrix dari kedua model juga identik, menunjukkan bahwa:\n",
    "* Sebagian besar kasus jinak dan ganas berhasil diklasifikasikan dengan benar.\n",
    "* Jumlah kesalahan prediksi (false positive dan false negative) sangat sedikit, sehingga model dapat dikatakan cukup andal."
   ]
  },
  {
   "cell_type": "markdown",
   "id": "4b620d93",
   "metadata": {},
   "source": [
    "### Deployment  \n",
    "#### Menyimpan model  "
   ]
  },
  {
   "cell_type": "code",
   "execution_count": 119,
   "id": "6d212fe1",
   "metadata": {},
   "outputs": [],
   "source": [
    "import pickle\n",
    "\n",
    "nama_model = \"breast.pkl\"\n",
    "\n",
    "with open(nama_model, 'wb') as file:\n",
    "    pickle.dump(modeldt, file)"
   ]
  },
  {
   "cell_type": "markdown",
   "id": "b1c631a0",
   "metadata": {},
   "source": [
    "#### Hasil Web  \n",
    "link web : https://pendata-bhcajlmnjr8buzvdjvu5am.streamlit.app/ "
   ]
  }
 ],
 "metadata": {
  "kernelspec": {
   "display_name": "Python 3 (ipykernel)",
   "language": "python",
   "name": "python3"
  }
 },
 "nbformat": 4,
 "nbformat_minor": 5
}
